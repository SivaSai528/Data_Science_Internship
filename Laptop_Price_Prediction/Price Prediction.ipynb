{
 "cells": [
  {
   "cell_type": "code",
   "execution_count": 171,
   "id": "ccdb5c1e",
   "metadata": {},
   "outputs": [],
   "source": [
    "#Import LIBRARIES\n",
    "import pandas as pd\n",
    "import numpy as np"
   ]
  },
  {
   "cell_type": "code",
   "execution_count": 172,
   "id": "bbfb203d",
   "metadata": {},
   "outputs": [],
   "source": [
    "df=pd.read_csv('laptop_details.csv')"
   ]
  },
  {
   "cell_type": "code",
   "execution_count": 173,
   "id": "043d0670",
   "metadata": {},
   "outputs": [
    {
     "data": {
      "text/html": [
       "<div>\n",
       "<style scoped>\n",
       "    .dataframe tbody tr th:only-of-type {\n",
       "        vertical-align: middle;\n",
       "    }\n",
       "\n",
       "    .dataframe tbody tr th {\n",
       "        vertical-align: top;\n",
       "    }\n",
       "\n",
       "    .dataframe thead th {\n",
       "        text-align: right;\n",
       "    }\n",
       "</style>\n",
       "<table border=\"1\" class=\"dataframe\">\n",
       "  <thead>\n",
       "    <tr style=\"text-align: right;\">\n",
       "      <th></th>\n",
       "      <th>Product</th>\n",
       "      <th>Rating</th>\n",
       "      <th>MRP</th>\n",
       "      <th>Feature</th>\n",
       "    </tr>\n",
       "  </thead>\n",
       "  <tbody>\n",
       "    <tr>\n",
       "      <th>0</th>\n",
       "      <td>Lenovo IdeaPad 3 Core i3 11th Gen - (8 GB/256 ...</td>\n",
       "      <td>4.2</td>\n",
       "      <td>₹36,990</td>\n",
       "      <td>Intel Core i3 Processor (11th Gen)8 GB DDR4 RA...</td>\n",
       "    </tr>\n",
       "    <tr>\n",
       "      <th>1</th>\n",
       "      <td>Lenovo IdeaPad 3 Core i3 11th Gen - (8 GB/512 ...</td>\n",
       "      <td>4.2</td>\n",
       "      <td>₹39,990</td>\n",
       "      <td>Intel Core i3 Processor (11th Gen)8 GB DDR4 RA...</td>\n",
       "    </tr>\n",
       "    <tr>\n",
       "      <th>2</th>\n",
       "      <td>ASUS VivoBook 15 (2022) Core i3 10th Gen - (8 ...</td>\n",
       "      <td>4.3</td>\n",
       "      <td>₹32,990</td>\n",
       "      <td>Intel Core i3 Processor (10th Gen)8 GB DDR4 RA...</td>\n",
       "    </tr>\n",
       "    <tr>\n",
       "      <th>3</th>\n",
       "      <td>HP Pavilion Ryzen 5 Hexa Core AMD R5-5600H - (...</td>\n",
       "      <td>4.4</td>\n",
       "      <td>₹49,990</td>\n",
       "      <td>AMD Ryzen 5 Hexa Core Processor8 GB DDR4 RAM64...</td>\n",
       "    </tr>\n",
       "    <tr>\n",
       "      <th>4</th>\n",
       "      <td>ASUS TUF Gaming F15 Core i5 10th Gen - (8 GB/5...</td>\n",
       "      <td>4.4</td>\n",
       "      <td>₹49,990</td>\n",
       "      <td>Intel Core i5 Processor (10th Gen)8 GB DDR4 RA...</td>\n",
       "    </tr>\n",
       "  </tbody>\n",
       "</table>\n",
       "</div>"
      ],
      "text/plain": [
       "                                             Product  Rating      MRP  \\\n",
       "0  Lenovo IdeaPad 3 Core i3 11th Gen - (8 GB/256 ...     4.2  ₹36,990   \n",
       "1  Lenovo IdeaPad 3 Core i3 11th Gen - (8 GB/512 ...     4.2  ₹39,990   \n",
       "2  ASUS VivoBook 15 (2022) Core i3 10th Gen - (8 ...     4.3  ₹32,990   \n",
       "3  HP Pavilion Ryzen 5 Hexa Core AMD R5-5600H - (...     4.4  ₹49,990   \n",
       "4  ASUS TUF Gaming F15 Core i5 10th Gen - (8 GB/5...     4.4  ₹49,990   \n",
       "\n",
       "                                             Feature  \n",
       "0  Intel Core i3 Processor (11th Gen)8 GB DDR4 RA...  \n",
       "1  Intel Core i3 Processor (11th Gen)8 GB DDR4 RA...  \n",
       "2  Intel Core i3 Processor (10th Gen)8 GB DDR4 RA...  \n",
       "3  AMD Ryzen 5 Hexa Core Processor8 GB DDR4 RAM64...  \n",
       "4  Intel Core i5 Processor (10th Gen)8 GB DDR4 RA...  "
      ]
     },
     "execution_count": 173,
     "metadata": {},
     "output_type": "execute_result"
    }
   ],
   "source": [
    "df.head()"
   ]
  },
  {
   "cell_type": "code",
   "execution_count": 174,
   "id": "acbd47cb",
   "metadata": {},
   "outputs": [
    {
     "name": "stdout",
     "output_type": "stream",
     "text": [
      "<class 'pandas.core.frame.DataFrame'>\n",
      "RangeIndex: 720 entries, 0 to 719\n",
      "Data columns (total 4 columns):\n",
      " #   Column   Non-Null Count  Dtype  \n",
      "---  ------   --------------  -----  \n",
      " 0   Product  720 non-null    object \n",
      " 1   Rating   581 non-null    float64\n",
      " 2   MRP      720 non-null    object \n",
      " 3   Feature  720 non-null    object \n",
      "dtypes: float64(1), object(3)\n",
      "memory usage: 22.6+ KB\n"
     ]
    }
   ],
   "source": [
    "df.info()"
   ]
  },
  {
   "cell_type": "code",
   "execution_count": 175,
   "id": "0321aec3",
   "metadata": {},
   "outputs": [
    {
     "name": "stdout",
     "output_type": "stream",
     "text": [
      "AMD Ryzen 5 Hexa Core Processor8 GB DDR4 RAM64 bit Windows 10 Operating System512 GB SSD39.62 cm (15.6 inch) DisplayHP Documentation, HP e-service, HP BIOS Recovery, HP SSRM, HP Smart, HP Jumpstarts1 Year Onsite Warranty\n"
     ]
    }
   ],
   "source": [
    "print(df['Feature'][3])"
   ]
  },
  {
   "cell_type": "markdown",
   "id": "1697f3f5",
   "metadata": {},
   "source": [
    "Extract the details using regex"
   ]
  },
  {
   "cell_type": "code",
   "execution_count": 176,
   "id": "ca56f30b",
   "metadata": {},
   "outputs": [],
   "source": [
    "import re"
   ]
  },
  {
   "cell_type": "code",
   "execution_count": 177,
   "id": "3b73386c",
   "metadata": {},
   "outputs": [],
   "source": [
    "#Extract processor info\n",
    "\n",
    "exp = r'(?i)(AMD|Intel|Apple|Qualcomm)[a-z0-9 ]*Processor'\n",
    "df['Processor'] = df.Feature.apply(lambda x: re.search(exp,x).group() if(re.search(exp,x)) else None)"
   ]
  },
  {
   "cell_type": "code",
   "execution_count": 178,
   "id": "aaaf8b84",
   "metadata": {},
   "outputs": [],
   "source": [
    "#Extract ram\n",
    "\n",
    "regex = r'\\d+\\sGB[\\s\\w]+RAM'\n",
    "\n",
    "df['RAM'] = df['Feature'].apply(lambda x : re.search(regex, x).group() if(re.search(regex,x)) else None)"
   ]
  },
  {
   "cell_type": "code",
   "execution_count": 179,
   "id": "cc83c154",
   "metadata": {},
   "outputs": [],
   "source": [
    "# OS \n",
    "\n",
    "regex = r'(Windows (?:10|11)|Mac OS|Linux|DOS|Chrome)[\\s\\w]*Operating System'\n",
    "\n",
    "df['OS'] = df['Feature'].apply(lambda x : re.search(regex, x).group() if(re.search(regex,x)) else None)"
   ]
  },
  {
   "cell_type": "code",
   "execution_count": 180,
   "id": "c73ad951",
   "metadata": {},
   "outputs": [],
   "source": [
    "# Storage\n",
    "\n",
    "regex = r'[\\d]+\\s(?:GB|TB)\\s(?:HDD|SSD|EMMC)'\n",
    "\n",
    "df['Storage'] = df['Feature'].apply(lambda x : re.findall(regex,x))\n"
   ]
  },
  {
   "cell_type": "code",
   "execution_count": 181,
   "id": "52229713",
   "metadata": {},
   "outputs": [],
   "source": [
    "# Brand\n",
    "\n",
    "regex = r'^\\w+'\n",
    "\n",
    "df['Brand'] = df['Product'].apply(lambda x : re.search(regex, x).group() if(re.search(regex,x)) else None)"
   ]
  },
  {
   "cell_type": "code",
   "execution_count": 182,
   "id": "6d2bfb3b",
   "metadata": {},
   "outputs": [
    {
     "data": {
      "text/html": [
       "<div>\n",
       "<style scoped>\n",
       "    .dataframe tbody tr th:only-of-type {\n",
       "        vertical-align: middle;\n",
       "    }\n",
       "\n",
       "    .dataframe tbody tr th {\n",
       "        vertical-align: top;\n",
       "    }\n",
       "\n",
       "    .dataframe thead th {\n",
       "        text-align: right;\n",
       "    }\n",
       "</style>\n",
       "<table border=\"1\" class=\"dataframe\">\n",
       "  <thead>\n",
       "    <tr style=\"text-align: right;\">\n",
       "      <th></th>\n",
       "      <th>Product</th>\n",
       "      <th>Rating</th>\n",
       "      <th>MRP</th>\n",
       "      <th>Feature</th>\n",
       "      <th>Processor</th>\n",
       "      <th>RAM</th>\n",
       "      <th>OS</th>\n",
       "      <th>Storage</th>\n",
       "      <th>Brand</th>\n",
       "    </tr>\n",
       "  </thead>\n",
       "  <tbody>\n",
       "    <tr>\n",
       "      <th>0</th>\n",
       "      <td>Lenovo IdeaPad 3 Core i3 11th Gen - (8 GB/256 ...</td>\n",
       "      <td>4.2</td>\n",
       "      <td>₹36,990</td>\n",
       "      <td>Intel Core i3 Processor (11th Gen)8 GB DDR4 RA...</td>\n",
       "      <td>Intel Core i3 Processor</td>\n",
       "      <td>8 GB DDR4 RAM</td>\n",
       "      <td>Windows 11 Operating System</td>\n",
       "      <td>[256 GB SSD]</td>\n",
       "      <td>Lenovo</td>\n",
       "    </tr>\n",
       "    <tr>\n",
       "      <th>1</th>\n",
       "      <td>Lenovo IdeaPad 3 Core i3 11th Gen - (8 GB/512 ...</td>\n",
       "      <td>4.2</td>\n",
       "      <td>₹39,990</td>\n",
       "      <td>Intel Core i3 Processor (11th Gen)8 GB DDR4 RA...</td>\n",
       "      <td>Intel Core i3 Processor</td>\n",
       "      <td>8 GB DDR4 RAM</td>\n",
       "      <td>Windows 11 Operating System</td>\n",
       "      <td>[512 GB SSD]</td>\n",
       "      <td>Lenovo</td>\n",
       "    </tr>\n",
       "    <tr>\n",
       "      <th>2</th>\n",
       "      <td>ASUS VivoBook 15 (2022) Core i3 10th Gen - (8 ...</td>\n",
       "      <td>4.3</td>\n",
       "      <td>₹32,990</td>\n",
       "      <td>Intel Core i3 Processor (10th Gen)8 GB DDR4 RA...</td>\n",
       "      <td>Intel Core i3 Processor</td>\n",
       "      <td>8 GB DDR4 RAM</td>\n",
       "      <td>Windows 11 Operating System</td>\n",
       "      <td>[512 GB SSD]</td>\n",
       "      <td>ASUS</td>\n",
       "    </tr>\n",
       "    <tr>\n",
       "      <th>3</th>\n",
       "      <td>HP Pavilion Ryzen 5 Hexa Core AMD R5-5600H - (...</td>\n",
       "      <td>4.4</td>\n",
       "      <td>₹49,990</td>\n",
       "      <td>AMD Ryzen 5 Hexa Core Processor8 GB DDR4 RAM64...</td>\n",
       "      <td>AMD Ryzen 5 Hexa Core Processor</td>\n",
       "      <td>8 GB DDR4 RAM</td>\n",
       "      <td>Windows 10 Operating System</td>\n",
       "      <td>[512 GB SSD]</td>\n",
       "      <td>HP</td>\n",
       "    </tr>\n",
       "    <tr>\n",
       "      <th>4</th>\n",
       "      <td>ASUS TUF Gaming F15 Core i5 10th Gen - (8 GB/5...</td>\n",
       "      <td>4.4</td>\n",
       "      <td>₹49,990</td>\n",
       "      <td>Intel Core i5 Processor (10th Gen)8 GB DDR4 RA...</td>\n",
       "      <td>Intel Core i5 Processor</td>\n",
       "      <td>8 GB DDR4 RAM</td>\n",
       "      <td>Windows 11 Operating System</td>\n",
       "      <td>[512 GB SSD]</td>\n",
       "      <td>ASUS</td>\n",
       "    </tr>\n",
       "  </tbody>\n",
       "</table>\n",
       "</div>"
      ],
      "text/plain": [
       "                                             Product  Rating      MRP  \\\n",
       "0  Lenovo IdeaPad 3 Core i3 11th Gen - (8 GB/256 ...     4.2  ₹36,990   \n",
       "1  Lenovo IdeaPad 3 Core i3 11th Gen - (8 GB/512 ...     4.2  ₹39,990   \n",
       "2  ASUS VivoBook 15 (2022) Core i3 10th Gen - (8 ...     4.3  ₹32,990   \n",
       "3  HP Pavilion Ryzen 5 Hexa Core AMD R5-5600H - (...     4.4  ₹49,990   \n",
       "4  ASUS TUF Gaming F15 Core i5 10th Gen - (8 GB/5...     4.4  ₹49,990   \n",
       "\n",
       "                                             Feature  \\\n",
       "0  Intel Core i3 Processor (11th Gen)8 GB DDR4 RA...   \n",
       "1  Intel Core i3 Processor (11th Gen)8 GB DDR4 RA...   \n",
       "2  Intel Core i3 Processor (10th Gen)8 GB DDR4 RA...   \n",
       "3  AMD Ryzen 5 Hexa Core Processor8 GB DDR4 RAM64...   \n",
       "4  Intel Core i5 Processor (10th Gen)8 GB DDR4 RA...   \n",
       "\n",
       "                         Processor            RAM  \\\n",
       "0          Intel Core i3 Processor  8 GB DDR4 RAM   \n",
       "1          Intel Core i3 Processor  8 GB DDR4 RAM   \n",
       "2          Intel Core i3 Processor  8 GB DDR4 RAM   \n",
       "3  AMD Ryzen 5 Hexa Core Processor  8 GB DDR4 RAM   \n",
       "4          Intel Core i5 Processor  8 GB DDR4 RAM   \n",
       "\n",
       "                            OS       Storage   Brand  \n",
       "0  Windows 11 Operating System  [256 GB SSD]  Lenovo  \n",
       "1  Windows 11 Operating System  [512 GB SSD]  Lenovo  \n",
       "2  Windows 11 Operating System  [512 GB SSD]    ASUS  \n",
       "3  Windows 10 Operating System  [512 GB SSD]      HP  \n",
       "4  Windows 11 Operating System  [512 GB SSD]    ASUS  "
      ]
     },
     "execution_count": 182,
     "metadata": {},
     "output_type": "execute_result"
    }
   ],
   "source": [
    "df.head()"
   ]
  },
  {
   "cell_type": "code",
   "execution_count": 183,
   "id": "30f092aa",
   "metadata": {},
   "outputs": [
    {
     "data": {
      "text/plain": [
       "(720, 9)"
      ]
     },
     "execution_count": 183,
     "metadata": {},
     "output_type": "execute_result"
    }
   ],
   "source": [
    "df.shape"
   ]
  },
  {
   "cell_type": "code",
   "execution_count": 184,
   "id": "46d87db5",
   "metadata": {},
   "outputs": [
    {
     "data": {
      "text/html": [
       "<div>\n",
       "<style scoped>\n",
       "    .dataframe tbody tr th:only-of-type {\n",
       "        vertical-align: middle;\n",
       "    }\n",
       "\n",
       "    .dataframe tbody tr th {\n",
       "        vertical-align: top;\n",
       "    }\n",
       "\n",
       "    .dataframe thead th {\n",
       "        text-align: right;\n",
       "    }\n",
       "</style>\n",
       "<table border=\"1\" class=\"dataframe\">\n",
       "  <thead>\n",
       "    <tr style=\"text-align: right;\">\n",
       "      <th></th>\n",
       "      <th>Product</th>\n",
       "      <th>Rating</th>\n",
       "      <th>MRP</th>\n",
       "      <th>Feature</th>\n",
       "      <th>Processor</th>\n",
       "      <th>RAM</th>\n",
       "      <th>OS</th>\n",
       "      <th>Storage</th>\n",
       "      <th>Brand</th>\n",
       "    </tr>\n",
       "  </thead>\n",
       "  <tbody>\n",
       "    <tr>\n",
       "      <th>0</th>\n",
       "      <td>Lenovo IdeaPad 3 Core i3 11th Gen - (8 GB/256 ...</td>\n",
       "      <td>4.2</td>\n",
       "      <td>₹36,990</td>\n",
       "      <td>Intel Core i3 Processor (11th Gen)8 GB DDR4 RA...</td>\n",
       "      <td>Intel Core i3 Processor</td>\n",
       "      <td>8 GB DDR4 RAM</td>\n",
       "      <td>Windows 11 Operating System</td>\n",
       "      <td>[256 GB SSD]</td>\n",
       "      <td>Lenovo</td>\n",
       "    </tr>\n",
       "    <tr>\n",
       "      <th>1</th>\n",
       "      <td>Lenovo IdeaPad 3 Core i3 11th Gen - (8 GB/512 ...</td>\n",
       "      <td>4.2</td>\n",
       "      <td>₹39,990</td>\n",
       "      <td>Intel Core i3 Processor (11th Gen)8 GB DDR4 RA...</td>\n",
       "      <td>Intel Core i3 Processor</td>\n",
       "      <td>8 GB DDR4 RAM</td>\n",
       "      <td>Windows 11 Operating System</td>\n",
       "      <td>[512 GB SSD]</td>\n",
       "      <td>Lenovo</td>\n",
       "    </tr>\n",
       "    <tr>\n",
       "      <th>2</th>\n",
       "      <td>ASUS VivoBook 15 (2022) Core i3 10th Gen - (8 ...</td>\n",
       "      <td>4.3</td>\n",
       "      <td>₹32,990</td>\n",
       "      <td>Intel Core i3 Processor (10th Gen)8 GB DDR4 RA...</td>\n",
       "      <td>Intel Core i3 Processor</td>\n",
       "      <td>8 GB DDR4 RAM</td>\n",
       "      <td>Windows 11 Operating System</td>\n",
       "      <td>[512 GB SSD]</td>\n",
       "      <td>ASUS</td>\n",
       "    </tr>\n",
       "    <tr>\n",
       "      <th>3</th>\n",
       "      <td>HP Pavilion Ryzen 5 Hexa Core AMD R5-5600H - (...</td>\n",
       "      <td>4.4</td>\n",
       "      <td>₹49,990</td>\n",
       "      <td>AMD Ryzen 5 Hexa Core Processor8 GB DDR4 RAM64...</td>\n",
       "      <td>AMD Ryzen 5 Hexa Core Processor</td>\n",
       "      <td>8 GB DDR4 RAM</td>\n",
       "      <td>Windows 10 Operating System</td>\n",
       "      <td>[512 GB SSD]</td>\n",
       "      <td>HP</td>\n",
       "    </tr>\n",
       "    <tr>\n",
       "      <th>4</th>\n",
       "      <td>ASUS TUF Gaming F15 Core i5 10th Gen - (8 GB/5...</td>\n",
       "      <td>4.4</td>\n",
       "      <td>₹49,990</td>\n",
       "      <td>Intel Core i5 Processor (10th Gen)8 GB DDR4 RA...</td>\n",
       "      <td>Intel Core i5 Processor</td>\n",
       "      <td>8 GB DDR4 RAM</td>\n",
       "      <td>Windows 11 Operating System</td>\n",
       "      <td>[512 GB SSD]</td>\n",
       "      <td>ASUS</td>\n",
       "    </tr>\n",
       "  </tbody>\n",
       "</table>\n",
       "</div>"
      ],
      "text/plain": [
       "                                             Product  Rating      MRP  \\\n",
       "0  Lenovo IdeaPad 3 Core i3 11th Gen - (8 GB/256 ...     4.2  ₹36,990   \n",
       "1  Lenovo IdeaPad 3 Core i3 11th Gen - (8 GB/512 ...     4.2  ₹39,990   \n",
       "2  ASUS VivoBook 15 (2022) Core i3 10th Gen - (8 ...     4.3  ₹32,990   \n",
       "3  HP Pavilion Ryzen 5 Hexa Core AMD R5-5600H - (...     4.4  ₹49,990   \n",
       "4  ASUS TUF Gaming F15 Core i5 10th Gen - (8 GB/5...     4.4  ₹49,990   \n",
       "\n",
       "                                             Feature  \\\n",
       "0  Intel Core i3 Processor (11th Gen)8 GB DDR4 RA...   \n",
       "1  Intel Core i3 Processor (11th Gen)8 GB DDR4 RA...   \n",
       "2  Intel Core i3 Processor (10th Gen)8 GB DDR4 RA...   \n",
       "3  AMD Ryzen 5 Hexa Core Processor8 GB DDR4 RAM64...   \n",
       "4  Intel Core i5 Processor (10th Gen)8 GB DDR4 RA...   \n",
       "\n",
       "                         Processor            RAM  \\\n",
       "0          Intel Core i3 Processor  8 GB DDR4 RAM   \n",
       "1          Intel Core i3 Processor  8 GB DDR4 RAM   \n",
       "2          Intel Core i3 Processor  8 GB DDR4 RAM   \n",
       "3  AMD Ryzen 5 Hexa Core Processor  8 GB DDR4 RAM   \n",
       "4          Intel Core i5 Processor  8 GB DDR4 RAM   \n",
       "\n",
       "                            OS       Storage   Brand  \n",
       "0  Windows 11 Operating System  [256 GB SSD]  Lenovo  \n",
       "1  Windows 11 Operating System  [512 GB SSD]  Lenovo  \n",
       "2  Windows 11 Operating System  [512 GB SSD]    ASUS  \n",
       "3  Windows 10 Operating System  [512 GB SSD]      HP  \n",
       "4  Windows 11 Operating System  [512 GB SSD]    ASUS  "
      ]
     },
     "execution_count": 184,
     "metadata": {},
     "output_type": "execute_result"
    }
   ],
   "source": [
    "df.head()"
   ]
  },
  {
   "cell_type": "code",
   "execution_count": 185,
   "id": "75603478",
   "metadata": {},
   "outputs": [
    {
     "name": "stdout",
     "output_type": "stream",
     "text": [
      "<class 'pandas.core.frame.DataFrame'>\n",
      "RangeIndex: 720 entries, 0 to 719\n",
      "Data columns (total 9 columns):\n",
      " #   Column     Non-Null Count  Dtype  \n",
      "---  ------     --------------  -----  \n",
      " 0   Product    720 non-null    object \n",
      " 1   Rating     581 non-null    float64\n",
      " 2   MRP        720 non-null    float64\n",
      " 3   Feature    720 non-null    object \n",
      " 4   Processor  720 non-null    object \n",
      " 5   RAM        720 non-null    object \n",
      " 6   OS         720 non-null    object \n",
      " 7   Storage    720 non-null    object \n",
      " 8   Brand      720 non-null    object \n",
      "dtypes: float64(2), object(7)\n",
      "memory usage: 50.8+ KB\n"
     ]
    }
   ],
   "source": [
    "df['MRP'] = df['MRP'].astype(str).str.replace('₹','').str.replace(',','').astype(float)\n",
    "df.info()"
   ]
  },
  {
   "cell_type": "code",
   "execution_count": 186,
   "id": "6d39114f",
   "metadata": {},
   "outputs": [
    {
     "name": "stdout",
     "output_type": "stream",
     "text": [
      "<class 'pandas.core.frame.DataFrame'>\n",
      "RangeIndex: 720 entries, 0 to 719\n",
      "Data columns (total 9 columns):\n",
      " #   Column     Non-Null Count  Dtype  \n",
      "---  ------     --------------  -----  \n",
      " 0   Product    720 non-null    object \n",
      " 1   Rating     581 non-null    float64\n",
      " 2   MRP        720 non-null    int64  \n",
      " 3   Feature    720 non-null    object \n",
      " 4   Processor  720 non-null    object \n",
      " 5   RAM        720 non-null    object \n",
      " 6   OS         720 non-null    object \n",
      " 7   Storage    720 non-null    object \n",
      " 8   Brand      720 non-null    object \n",
      "dtypes: float64(1), int64(1), object(7)\n",
      "memory usage: 50.8+ KB\n"
     ]
    }
   ],
   "source": [
    "#CONVERTING MRP INTO INT TYPE, AS MRP IS NOT IN FLOAT TYPE\n",
    "df['MRP'] = df['MRP'].apply(lambda x: int(round(x)))\n",
    "df.info()"
   ]
  },
  {
   "cell_type": "code",
   "execution_count": 187,
   "id": "700dbc26",
   "metadata": {},
   "outputs": [
    {
     "data": {
      "text/html": [
       "<div>\n",
       "<style scoped>\n",
       "    .dataframe tbody tr th:only-of-type {\n",
       "        vertical-align: middle;\n",
       "    }\n",
       "\n",
       "    .dataframe tbody tr th {\n",
       "        vertical-align: top;\n",
       "    }\n",
       "\n",
       "    .dataframe thead th {\n",
       "        text-align: right;\n",
       "    }\n",
       "</style>\n",
       "<table border=\"1\" class=\"dataframe\">\n",
       "  <thead>\n",
       "    <tr style=\"text-align: right;\">\n",
       "      <th></th>\n",
       "      <th>Product</th>\n",
       "      <th>MRP</th>\n",
       "      <th>Feature</th>\n",
       "      <th>Processor</th>\n",
       "      <th>RAM</th>\n",
       "      <th>OS</th>\n",
       "      <th>Storage</th>\n",
       "      <th>Brand</th>\n",
       "    </tr>\n",
       "  </thead>\n",
       "  <tbody>\n",
       "    <tr>\n",
       "      <th>0</th>\n",
       "      <td>Lenovo IdeaPad 3 Core i3 11th Gen - (8 GB/256 ...</td>\n",
       "      <td>36990</td>\n",
       "      <td>Intel Core i3 Processor (11th Gen)8 GB DDR4 RA...</td>\n",
       "      <td>Intel Core i3 Processor</td>\n",
       "      <td>8 GB DDR4 RAM</td>\n",
       "      <td>Windows 11 Operating System</td>\n",
       "      <td>[256 GB SSD]</td>\n",
       "      <td>Lenovo</td>\n",
       "    </tr>\n",
       "    <tr>\n",
       "      <th>1</th>\n",
       "      <td>Lenovo IdeaPad 3 Core i3 11th Gen - (8 GB/512 ...</td>\n",
       "      <td>39990</td>\n",
       "      <td>Intel Core i3 Processor (11th Gen)8 GB DDR4 RA...</td>\n",
       "      <td>Intel Core i3 Processor</td>\n",
       "      <td>8 GB DDR4 RAM</td>\n",
       "      <td>Windows 11 Operating System</td>\n",
       "      <td>[512 GB SSD]</td>\n",
       "      <td>Lenovo</td>\n",
       "    </tr>\n",
       "    <tr>\n",
       "      <th>2</th>\n",
       "      <td>ASUS VivoBook 15 (2022) Core i3 10th Gen - (8 ...</td>\n",
       "      <td>32990</td>\n",
       "      <td>Intel Core i3 Processor (10th Gen)8 GB DDR4 RA...</td>\n",
       "      <td>Intel Core i3 Processor</td>\n",
       "      <td>8 GB DDR4 RAM</td>\n",
       "      <td>Windows 11 Operating System</td>\n",
       "      <td>[512 GB SSD]</td>\n",
       "      <td>ASUS</td>\n",
       "    </tr>\n",
       "    <tr>\n",
       "      <th>3</th>\n",
       "      <td>HP Pavilion Ryzen 5 Hexa Core AMD R5-5600H - (...</td>\n",
       "      <td>49990</td>\n",
       "      <td>AMD Ryzen 5 Hexa Core Processor8 GB DDR4 RAM64...</td>\n",
       "      <td>AMD Ryzen 5 Hexa Core Processor</td>\n",
       "      <td>8 GB DDR4 RAM</td>\n",
       "      <td>Windows 10 Operating System</td>\n",
       "      <td>[512 GB SSD]</td>\n",
       "      <td>HP</td>\n",
       "    </tr>\n",
       "    <tr>\n",
       "      <th>4</th>\n",
       "      <td>ASUS TUF Gaming F15 Core i5 10th Gen - (8 GB/5...</td>\n",
       "      <td>49990</td>\n",
       "      <td>Intel Core i5 Processor (10th Gen)8 GB DDR4 RA...</td>\n",
       "      <td>Intel Core i5 Processor</td>\n",
       "      <td>8 GB DDR4 RAM</td>\n",
       "      <td>Windows 11 Operating System</td>\n",
       "      <td>[512 GB SSD]</td>\n",
       "      <td>ASUS</td>\n",
       "    </tr>\n",
       "    <tr>\n",
       "      <th>...</th>\n",
       "      <td>...</td>\n",
       "      <td>...</td>\n",
       "      <td>...</td>\n",
       "      <td>...</td>\n",
       "      <td>...</td>\n",
       "      <td>...</td>\n",
       "      <td>...</td>\n",
       "      <td>...</td>\n",
       "    </tr>\n",
       "    <tr>\n",
       "      <th>715</th>\n",
       "      <td>ASUS Chromebook Flip Touch Celeron Dual Core -...</td>\n",
       "      <td>23490</td>\n",
       "      <td>Intel Celeron Dual Core Processor4 GB LPDDR4 R...</td>\n",
       "      <td>Intel Celeron Dual Core Processor</td>\n",
       "      <td>4 GB LPDDR4 RAM</td>\n",
       "      <td>Chrome Operating System</td>\n",
       "      <td>[]</td>\n",
       "      <td>ASUS</td>\n",
       "    </tr>\n",
       "    <tr>\n",
       "      <th>716</th>\n",
       "      <td>Lenovo IdeaPad Gaming 3 Ryzen 7 Octa Core AMD ...</td>\n",
       "      <td>73490</td>\n",
       "      <td>AMD Ryzen 7 Octa Core Processor8 GB DDR4 RAM64...</td>\n",
       "      <td>AMD Ryzen 7 Octa Core Processor</td>\n",
       "      <td>8 GB DDR4 RAM</td>\n",
       "      <td>Windows 11 Operating System</td>\n",
       "      <td>[512 GB SSD]</td>\n",
       "      <td>Lenovo</td>\n",
       "    </tr>\n",
       "    <tr>\n",
       "      <th>717</th>\n",
       "      <td>ASUS ROG Zephyrus G15 Ryzen 9 Octa Core 6900HS...</td>\n",
       "      <td>194990</td>\n",
       "      <td>AMD Ryzen 9 Octa Core Processor16 GB DDR5 RAM6...</td>\n",
       "      <td>AMD Ryzen 9 Octa Core Processor</td>\n",
       "      <td>16 GB DDR5 RAM</td>\n",
       "      <td>Windows 11 Operating System</td>\n",
       "      <td>[1 TB SSD]</td>\n",
       "      <td>ASUS</td>\n",
       "    </tr>\n",
       "    <tr>\n",
       "      <th>718</th>\n",
       "      <td>ASUS Zenbook Flip 14 OLED (2022) Touch Panel C...</td>\n",
       "      <td>125990</td>\n",
       "      <td>Intel Core i7 Processor (12th Gen)16 GB LPDDR5...</td>\n",
       "      <td>Intel Core i7 Processor</td>\n",
       "      <td>16 GB LPDDR5 RAM</td>\n",
       "      <td>Windows 11 Operating System</td>\n",
       "      <td>[512 GB SSD]</td>\n",
       "      <td>ASUS</td>\n",
       "    </tr>\n",
       "    <tr>\n",
       "      <th>719</th>\n",
       "      <td>Lenovo Ideapad Slim 3i Core i5 10th Gen - (8 G...</td>\n",
       "      <td>50990</td>\n",
       "      <td>Intel Core i5 Processor (10th Gen)8 GB DDR4 RA...</td>\n",
       "      <td>Intel Core i5 Processor</td>\n",
       "      <td>8 GB DDR4 RAM</td>\n",
       "      <td>Windows 10 Operating System</td>\n",
       "      <td>[1 TB HDD, 256 GB SSD]</td>\n",
       "      <td>Lenovo</td>\n",
       "    </tr>\n",
       "  </tbody>\n",
       "</table>\n",
       "<p>720 rows × 8 columns</p>\n",
       "</div>"
      ],
      "text/plain": [
       "                                               Product     MRP  \\\n",
       "0    Lenovo IdeaPad 3 Core i3 11th Gen - (8 GB/256 ...   36990   \n",
       "1    Lenovo IdeaPad 3 Core i3 11th Gen - (8 GB/512 ...   39990   \n",
       "2    ASUS VivoBook 15 (2022) Core i3 10th Gen - (8 ...   32990   \n",
       "3    HP Pavilion Ryzen 5 Hexa Core AMD R5-5600H - (...   49990   \n",
       "4    ASUS TUF Gaming F15 Core i5 10th Gen - (8 GB/5...   49990   \n",
       "..                                                 ...     ...   \n",
       "715  ASUS Chromebook Flip Touch Celeron Dual Core -...   23490   \n",
       "716  Lenovo IdeaPad Gaming 3 Ryzen 7 Octa Core AMD ...   73490   \n",
       "717  ASUS ROG Zephyrus G15 Ryzen 9 Octa Core 6900HS...  194990   \n",
       "718  ASUS Zenbook Flip 14 OLED (2022) Touch Panel C...  125990   \n",
       "719  Lenovo Ideapad Slim 3i Core i5 10th Gen - (8 G...   50990   \n",
       "\n",
       "                                               Feature  \\\n",
       "0    Intel Core i3 Processor (11th Gen)8 GB DDR4 RA...   \n",
       "1    Intel Core i3 Processor (11th Gen)8 GB DDR4 RA...   \n",
       "2    Intel Core i3 Processor (10th Gen)8 GB DDR4 RA...   \n",
       "3    AMD Ryzen 5 Hexa Core Processor8 GB DDR4 RAM64...   \n",
       "4    Intel Core i5 Processor (10th Gen)8 GB DDR4 RA...   \n",
       "..                                                 ...   \n",
       "715  Intel Celeron Dual Core Processor4 GB LPDDR4 R...   \n",
       "716  AMD Ryzen 7 Octa Core Processor8 GB DDR4 RAM64...   \n",
       "717  AMD Ryzen 9 Octa Core Processor16 GB DDR5 RAM6...   \n",
       "718  Intel Core i7 Processor (12th Gen)16 GB LPDDR5...   \n",
       "719  Intel Core i5 Processor (10th Gen)8 GB DDR4 RA...   \n",
       "\n",
       "                             Processor               RAM  \\\n",
       "0              Intel Core i3 Processor     8 GB DDR4 RAM   \n",
       "1              Intel Core i3 Processor     8 GB DDR4 RAM   \n",
       "2              Intel Core i3 Processor     8 GB DDR4 RAM   \n",
       "3      AMD Ryzen 5 Hexa Core Processor     8 GB DDR4 RAM   \n",
       "4              Intel Core i5 Processor     8 GB DDR4 RAM   \n",
       "..                                 ...               ...   \n",
       "715  Intel Celeron Dual Core Processor   4 GB LPDDR4 RAM   \n",
       "716    AMD Ryzen 7 Octa Core Processor     8 GB DDR4 RAM   \n",
       "717    AMD Ryzen 9 Octa Core Processor    16 GB DDR5 RAM   \n",
       "718            Intel Core i7 Processor  16 GB LPDDR5 RAM   \n",
       "719            Intel Core i5 Processor     8 GB DDR4 RAM   \n",
       "\n",
       "                              OS                 Storage   Brand  \n",
       "0    Windows 11 Operating System            [256 GB SSD]  Lenovo  \n",
       "1    Windows 11 Operating System            [512 GB SSD]  Lenovo  \n",
       "2    Windows 11 Operating System            [512 GB SSD]    ASUS  \n",
       "3    Windows 10 Operating System            [512 GB SSD]      HP  \n",
       "4    Windows 11 Operating System            [512 GB SSD]    ASUS  \n",
       "..                           ...                     ...     ...  \n",
       "715      Chrome Operating System                      []    ASUS  \n",
       "716  Windows 11 Operating System            [512 GB SSD]  Lenovo  \n",
       "717  Windows 11 Operating System              [1 TB SSD]    ASUS  \n",
       "718  Windows 11 Operating System            [512 GB SSD]    ASUS  \n",
       "719  Windows 10 Operating System  [1 TB HDD, 256 GB SSD]  Lenovo  \n",
       "\n",
       "[720 rows x 8 columns]"
      ]
     },
     "execution_count": 187,
     "metadata": {},
     "output_type": "execute_result"
    }
   ],
   "source": [
    "df = df.drop(['Rating'], axis=1)\n",
    "df"
   ]
  },
  {
   "cell_type": "markdown",
   "id": "78e6a5ea",
   "metadata": {},
   "source": [
    "#### HANDLING MISSING VALUES"
   ]
  },
  {
   "cell_type": "code",
   "execution_count": 188,
   "id": "eecb3cd5",
   "metadata": {},
   "outputs": [
    {
     "data": {
      "text/plain": [
       "Product      0\n",
       "MRP          0\n",
       "Feature      0\n",
       "Processor    0\n",
       "RAM          0\n",
       "OS           0\n",
       "Storage      0\n",
       "Brand        0\n",
       "dtype: int64"
      ]
     },
     "execution_count": 188,
     "metadata": {},
     "output_type": "execute_result"
    }
   ],
   "source": [
    "df.isnull().sum()"
   ]
  },
  {
   "cell_type": "code",
   "execution_count": 189,
   "id": "7066c277",
   "metadata": {},
   "outputs": [],
   "source": [
    "df = df.dropna(how='any',axis=0)"
   ]
  },
  {
   "cell_type": "code",
   "execution_count": 190,
   "id": "d704e431",
   "metadata": {},
   "outputs": [
    {
     "data": {
      "text/plain": [
       "(720, 8)"
      ]
     },
     "execution_count": 190,
     "metadata": {},
     "output_type": "execute_result"
    }
   ],
   "source": [
    "df.shape"
   ]
  },
  {
   "cell_type": "markdown",
   "id": "6e2a16da",
   "metadata": {},
   "source": [
    "#### DATA CLEANING"
   ]
  },
  {
   "cell_type": "code",
   "execution_count": 191,
   "id": "3b59954b",
   "metadata": {},
   "outputs": [
    {
     "data": {
      "text/plain": [
       "Intel Core i5 Processor                   157\n",
       "Intel Core i3 Processor                   133\n",
       "AMD Ryzen 9 Octa Core Processor            87\n",
       "AMD Ryzen 7 Octa Core Processor            80\n",
       "Intel Core i7 Processor                    56\n",
       "AMD Ryzen 5 Hexa Core Processor            52\n",
       "AMD Ryzen 3 Dual Core Processor            43\n",
       "AMD Ryzen 5 Quad Core Processor            37\n",
       "Intel Celeron Dual Core Processor          20\n",
       "Intel Core i9 Processor                    11\n",
       "Apple M1 Processor                          7\n",
       "Apple M1 Pro Processor                      6\n",
       "Apple M2 Processor                          5\n",
       "AMD Ryzen 3 Quad Core Processor             4\n",
       "Intel Pentium Silver Processor              3\n",
       "Intel Pentium Quad Core Processor           3\n",
       "Intel Celeron Quad Core Processor           3\n",
       "AMD Athlon Dual Core Processor              2\n",
       "AMD Ryzen 5 Dual Core Processor             2\n",
       "Intel OptaneIntel Core i3 Processor         2\n",
       "Intel Evo Core i5 Processor                 2\n",
       "Qualcomm Snapdragon 7c Gen 2 Processor      1\n",
       "AMD Ryzen 7 Quad Core Processor             1\n",
       "AMD Ryzen 3 Hexa Core Processor             1\n",
       "AMD Dual Core Processor                     1\n",
       "Apple M1 Max Processor                      1\n",
       "Name: Processor, dtype: int64"
      ]
     },
     "execution_count": 191,
     "metadata": {},
     "output_type": "execute_result"
    }
   ],
   "source": [
    "df['Processor'].value_counts()"
   ]
  },
  {
   "cell_type": "markdown",
   "id": "12628c87",
   "metadata": {},
   "source": [
    "Processor column"
   ]
  },
  {
   "cell_type": "code",
   "execution_count": 192,
   "id": "36554970",
   "metadata": {},
   "outputs": [],
   "source": [
    "df.loc[:,'Processor']=df['Processor'].replace({\n",
    "                                            'Intel Pentium Silver Processor':   'Intel Core i5 Processor',         \n",
    "                                            'Intel Pentium Quad Core Processor':  'Intel Core i5 Processor'  ,    \n",
    "                                            'Intel Celeron Quad Core Processor' :     'Intel Core i5 Processor',\n",
    "                                            'AMD Ryzen 5 Dual Core Processor'   :     'AMD Ryzen 5 Quad Core Processor',\n",
    "                                            'Intel Evo Core i5 Processor':          'Intel Core i5 Processor',\n",
    "                                            'Intel OptaneIntel Core i3 Processor':     'Intel Core i3 Processor',\n",
    "                                            'AMD Athlon Dual Core Processor':           'AMD Ryzen 3 Dual Core Processor',\n",
    "                                            'Apple M1 Max Processor':                    'Apple M1 Processor',\n",
    "                                            'AMD Ryzen 7 Quad Core Processor':          'AMD Ryzen 7 Octa Core Processor',\n",
    "                                            'AMD Dual Core Processor':                  'AMD Ryzen 3 Dual Core Processor',\n",
    "                                            'AMD Ryzen 3 Hexa Core Processor':          'AMD Ryzen 3 Dual Core Processor'})"
   ]
  },
  {
   "cell_type": "code",
   "execution_count": 193,
   "id": "4fd01ff5",
   "metadata": {},
   "outputs": [
    {
     "data": {
      "text/plain": [
       "Intel Core i5 Processor                   168\n",
       "Intel Core i3 Processor                   135\n",
       "AMD Ryzen 9 Octa Core Processor            87\n",
       "AMD Ryzen 7 Octa Core Processor            81\n",
       "Intel Core i7 Processor                    56\n",
       "AMD Ryzen 5 Hexa Core Processor            52\n",
       "AMD Ryzen 3 Dual Core Processor            47\n",
       "AMD Ryzen 5 Quad Core Processor            39\n",
       "Intel Celeron Dual Core Processor          20\n",
       "Intel Core i9 Processor                    11\n",
       "Apple M1 Processor                          8\n",
       "Apple M1 Pro Processor                      6\n",
       "Apple M2 Processor                          5\n",
       "AMD Ryzen 3 Quad Core Processor             4\n",
       "Qualcomm Snapdragon 7c Gen 2 Processor      1\n",
       "Name: Processor, dtype: int64"
      ]
     },
     "execution_count": 193,
     "metadata": {},
     "output_type": "execute_result"
    }
   ],
   "source": [
    "df['Processor'].value_counts()"
   ]
  },
  {
   "cell_type": "markdown",
   "id": "649bf06c",
   "metadata": {},
   "source": [
    "RAM COLUMN"
   ]
  },
  {
   "cell_type": "code",
   "execution_count": 194,
   "id": "e8591194",
   "metadata": {},
   "outputs": [
    {
     "data": {
      "text/plain": [
       "8 GB DDR4 RAM                                                                                377\n",
       "16 GB DDR4 RAM                                                                               153\n",
       "16 GB DDR5 RAM                                                                                77\n",
       "4 GB DDR4 RAM                                                                                 26\n",
       "16 GB LPDDR4X RAM                                                                             16\n",
       "8 GB LPDDR4X RAM                                                                              16\n",
       "32 GB DDR5 RAM                                                                                11\n",
       "16 GB LPDDR5 RAM                                                                               9\n",
       "4 GB LPDDR4 RAM                                                                                7\n",
       "16 GB Unified Memory RAM                                                                       6\n",
       "8 GB Unified Memory RAM                                                                        5\n",
       "4 GB LPDDR4X RAM                                                                               4\n",
       "32 GB DDR4 RAM                                                                                 4\n",
       "8 GB DDR5 RAM                                                                                  4\n",
       "16 GB LPDDR4 RAM                                                                               1\n",
       "16 GB LPDDR3 RAM                                                                               1\n",
       "32 GB LPDDR4X RAM                                                                              1\n",
       "128 GB SSD for Reduced Boot Up Time and in Game LoadingUpgradable SSD Upto 512 GB and RAM      1\n",
       "32 GB Unified Memory RAM                                                                       1\n",
       "Name: RAM, dtype: int64"
      ]
     },
     "execution_count": 194,
     "metadata": {},
     "output_type": "execute_result"
    }
   ],
   "source": [
    "df['RAM'].value_counts()"
   ]
  },
  {
   "cell_type": "code",
   "execution_count": 195,
   "id": "ad24cb9a",
   "metadata": {},
   "outputs": [],
   "source": [
    "df.loc[:,'RAM']=df['RAM'].replace({   '16 GB Unified Memory RAM':'16 GB DDR4 RAM','8 GB Unified Memory RAM':'8 GB DDR4 RAM',\n",
    "                                      '8 GB DDR5 RAM': '8 GB DDR4 RAM','32 GB DDR4 RAM':'32 GB DDR5 RAM',\n",
    "                                       '4 GB LPDDR4 RAM':'4 GB DDR4 RAM','4 GB LPDDR4X RAM':'4 GB DDR4 RAM','16 GB LPDDR3 RAM':'16 GB LPDDR4X RAM',\n",
    "                                         '32 GB LPDDR4X RAM':'32 GB DDR5 RAM','16 GB LPDDR4 RAM':'16 GB LPDDR4X RAM','32 GB Unified Memory RAM':'16 GB LPDDR4X RAM',\n",
    "                            '128 GB SSD for Reduced Boot Up Time and in Game LoadingUpgradable SSD Upto 512 GB and RAM':'16 GB DDR4 RAM',\n",
    "                                              \n",
    "                                           })"
   ]
  },
  {
   "cell_type": "code",
   "execution_count": 196,
   "id": "f5e54656",
   "metadata": {},
   "outputs": [
    {
     "data": {
      "text/plain": [
       "8 GB DDR4 RAM        386\n",
       "16 GB DDR4 RAM       160\n",
       "16 GB DDR5 RAM        77\n",
       "4 GB DDR4 RAM         37\n",
       "16 GB LPDDR4X RAM     19\n",
       "8 GB LPDDR4X RAM      16\n",
       "32 GB DDR5 RAM        16\n",
       "16 GB LPDDR5 RAM       9\n",
       "Name: RAM, dtype: int64"
      ]
     },
     "execution_count": 196,
     "metadata": {},
     "output_type": "execute_result"
    }
   ],
   "source": [
    "df['RAM'].value_counts()"
   ]
  },
  {
   "cell_type": "markdown",
   "id": "8164f5e1",
   "metadata": {},
   "source": [
    "OS COLUMN"
   ]
  },
  {
   "cell_type": "code",
   "execution_count": 197,
   "id": "6d4c8a59",
   "metadata": {},
   "outputs": [
    {
     "data": {
      "text/plain": [
       "Windows 11 Operating System                                                                                560\n",
       "Windows 10 Operating System                                                                                128\n",
       "Mac OS Operating System                                                                                     19\n",
       "Chrome Operating System                                                                                      7\n",
       "DOS Operating System                                                                                         4\n",
       "Windows 11 when availableAMD Ryzen 5 Hexa Core Processor8 GB DDR4 RAM64 bit Windows 10 Operating System      1\n",
       "Windows 11 when availableAMD Ryzen 5 Hexa Core Processor8 GB DDR4 RAM64 bit Windows 11 Operating System      1\n",
       "Name: OS, dtype: int64"
      ]
     },
     "execution_count": 197,
     "metadata": {},
     "output_type": "execute_result"
    }
   ],
   "source": [
    "df['OS'].value_counts()"
   ]
  },
  {
   "cell_type": "code",
   "execution_count": 198,
   "id": "fd67de35",
   "metadata": {},
   "outputs": [],
   "source": [
    "df.loc[:,'OS']=df['OS'].replace({ 'Windows 11 when availableAMD Ryzen 5 Hexa Core Processor8 GB DDR4 RAM64 bit Windows 11 Operating System':'Windows 11 Operating System',\n",
    "                                     'Windows 11 when availableAMD Ryzen 5 Hexa Core Processor8 GB DDR4 RAM64 bit Windows 10 Operating System' :'Windows 10 Operating System' })"
   ]
  },
  {
   "cell_type": "code",
   "execution_count": 199,
   "id": "dfecb54f",
   "metadata": {},
   "outputs": [
    {
     "data": {
      "text/plain": [
       "Windows 11 Operating System    561\n",
       "Windows 10 Operating System    129\n",
       "Mac OS Operating System         19\n",
       "Chrome Operating System          7\n",
       "DOS Operating System             4\n",
       "Name: OS, dtype: int64"
      ]
     },
     "execution_count": 199,
     "metadata": {},
     "output_type": "execute_result"
    }
   ],
   "source": [
    "df['OS'].value_counts()"
   ]
  },
  {
   "cell_type": "markdown",
   "id": "c8c4366e",
   "metadata": {},
   "source": [
    "Storage Column"
   ]
  },
  {
   "cell_type": "code",
   "execution_count": 200,
   "id": "2106e62b",
   "metadata": {},
   "outputs": [
    {
     "data": {
      "text/plain": [
       "512 GB SSD                      375\n",
       "1 TB SSD                        176\n",
       "256 GB SSD                       98\n",
       "1 TB HDD256 GB SSD               26\n",
       "1 TB HDD                         17\n",
       "                                 10\n",
       "2 TB SSD                          7\n",
       "128 GB SSD                        6\n",
       "128 GB SSD1 TB HDD128 GB SSD      2\n",
       "1 TB HDD512 GB SSD                2\n",
       "256 GB HDD256 GB SSD              1\n",
       "Name: Storage, dtype: int64"
      ]
     },
     "execution_count": 200,
     "metadata": {},
     "output_type": "execute_result"
    }
   ],
   "source": [
    "df['Storage']=df['Storage'].apply(lambda x: ''.join(x))\n",
    "df['Storage'].value_counts()"
   ]
  },
  {
   "cell_type": "code",
   "execution_count": 201,
   "id": "d122eaf8",
   "metadata": {},
   "outputs": [
    {
     "data": {
      "text/html": [
       "<div>\n",
       "<style scoped>\n",
       "    .dataframe tbody tr th:only-of-type {\n",
       "        vertical-align: middle;\n",
       "    }\n",
       "\n",
       "    .dataframe tbody tr th {\n",
       "        vertical-align: top;\n",
       "    }\n",
       "\n",
       "    .dataframe thead th {\n",
       "        text-align: right;\n",
       "    }\n",
       "</style>\n",
       "<table border=\"1\" class=\"dataframe\">\n",
       "  <thead>\n",
       "    <tr style=\"text-align: right;\">\n",
       "      <th></th>\n",
       "      <th>Product</th>\n",
       "      <th>MRP</th>\n",
       "      <th>Feature</th>\n",
       "      <th>Processor</th>\n",
       "      <th>RAM</th>\n",
       "      <th>OS</th>\n",
       "      <th>Storage</th>\n",
       "      <th>Brand</th>\n",
       "    </tr>\n",
       "  </thead>\n",
       "  <tbody>\n",
       "    <tr>\n",
       "      <th>83</th>\n",
       "      <td>SAMSUNG Galaxy Book Go Snapdragon 7c Gen 2 - (...</td>\n",
       "      <td>32990</td>\n",
       "      <td>Qualcomm Snapdragon 7c Gen 2 Processor4 GB LPD...</td>\n",
       "      <td>Qualcomm Snapdragon 7c Gen 2 Processor</td>\n",
       "      <td>4 GB DDR4 RAM</td>\n",
       "      <td>Windows 11 Operating System</td>\n",
       "      <td></td>\n",
       "      <td>SAMSUNG</td>\n",
       "    </tr>\n",
       "    <tr>\n",
       "      <th>89</th>\n",
       "      <td>Lenovo IdeaPad 3 CB Celeron Dual Core - (4 GB/...</td>\n",
       "      <td>19490</td>\n",
       "      <td>Intel Celeron Dual Core Processor4 GB DDR4 RAM...</td>\n",
       "      <td>Intel Celeron Dual Core Processor</td>\n",
       "      <td>4 GB DDR4 RAM</td>\n",
       "      <td>Chrome Operating System</td>\n",
       "      <td></td>\n",
       "      <td>Lenovo</td>\n",
       "    </tr>\n",
       "    <tr>\n",
       "      <th>96</th>\n",
       "      <td>Lenovo IdeaPad 3 CB Celeron Dual Core - (4 GB/...</td>\n",
       "      <td>19490</td>\n",
       "      <td>Intel Celeron Dual Core Processor4 GB DDR4 RAM...</td>\n",
       "      <td>Intel Celeron Dual Core Processor</td>\n",
       "      <td>4 GB DDR4 RAM</td>\n",
       "      <td>Chrome Operating System</td>\n",
       "      <td></td>\n",
       "      <td>Lenovo</td>\n",
       "    </tr>\n",
       "    <tr>\n",
       "      <th>345</th>\n",
       "      <td>ASUS Chromebook Flip Touch Celeron Dual Core -...</td>\n",
       "      <td>14990</td>\n",
       "      <td>Intel Celeron Dual Core Processor4 GB LPDDR4 R...</td>\n",
       "      <td>Intel Celeron Dual Core Processor</td>\n",
       "      <td>4 GB DDR4 RAM</td>\n",
       "      <td>Chrome Operating System</td>\n",
       "      <td></td>\n",
       "      <td>ASUS</td>\n",
       "    </tr>\n",
       "    <tr>\n",
       "      <th>509</th>\n",
       "      <td>ASUS Chromebook Flip Touch Celeron Dual Core -...</td>\n",
       "      <td>24390</td>\n",
       "      <td>Intel Celeron Dual Core Processor4 GB LPDDR4 R...</td>\n",
       "      <td>Intel Celeron Dual Core Processor</td>\n",
       "      <td>4 GB DDR4 RAM</td>\n",
       "      <td>Chrome Operating System</td>\n",
       "      <td></td>\n",
       "      <td>ASUS</td>\n",
       "    </tr>\n",
       "    <tr>\n",
       "      <th>544</th>\n",
       "      <td>ASUS EeeBook 12 Celeron Dual Core - (4 GB/64 G...</td>\n",
       "      <td>21990</td>\n",
       "      <td>Intel Celeron Dual Core Processor4 GB DDR4 RAM...</td>\n",
       "      <td>Intel Celeron Dual Core Processor</td>\n",
       "      <td>4 GB DDR4 RAM</td>\n",
       "      <td>Windows 11 Operating System</td>\n",
       "      <td></td>\n",
       "      <td>ASUS</td>\n",
       "    </tr>\n",
       "    <tr>\n",
       "      <th>559</th>\n",
       "      <td>ASUS EeeBook 12 Celeron Dual Core - (4 GB/64 G...</td>\n",
       "      <td>19990</td>\n",
       "      <td>Intel Celeron Dual Core Processor4 GB DDR4 RAM...</td>\n",
       "      <td>Intel Celeron Dual Core Processor</td>\n",
       "      <td>4 GB DDR4 RAM</td>\n",
       "      <td>Windows 11 Operating System</td>\n",
       "      <td></td>\n",
       "      <td>ASUS</td>\n",
       "    </tr>\n",
       "    <tr>\n",
       "      <th>632</th>\n",
       "      <td>Lenovo IdeaPad Flex 3 Chromebook Celeron Dual ...</td>\n",
       "      <td>28490</td>\n",
       "      <td>Intel Celeron Dual Core Processor4 GB LPDDR4X ...</td>\n",
       "      <td>Intel Celeron Dual Core Processor</td>\n",
       "      <td>4 GB DDR4 RAM</td>\n",
       "      <td>Chrome Operating System</td>\n",
       "      <td></td>\n",
       "      <td>Lenovo</td>\n",
       "    </tr>\n",
       "    <tr>\n",
       "      <th>695</th>\n",
       "      <td>ASUS Chromebook Celeron Dual Core - (4 GB/64 G...</td>\n",
       "      <td>25990</td>\n",
       "      <td>Intel Celeron Dual Core Processor4 GB LPDDR4 R...</td>\n",
       "      <td>Intel Celeron Dual Core Processor</td>\n",
       "      <td>4 GB DDR4 RAM</td>\n",
       "      <td>Chrome Operating System</td>\n",
       "      <td></td>\n",
       "      <td>ASUS</td>\n",
       "    </tr>\n",
       "    <tr>\n",
       "      <th>715</th>\n",
       "      <td>ASUS Chromebook Flip Touch Celeron Dual Core -...</td>\n",
       "      <td>23490</td>\n",
       "      <td>Intel Celeron Dual Core Processor4 GB LPDDR4 R...</td>\n",
       "      <td>Intel Celeron Dual Core Processor</td>\n",
       "      <td>4 GB DDR4 RAM</td>\n",
       "      <td>Chrome Operating System</td>\n",
       "      <td></td>\n",
       "      <td>ASUS</td>\n",
       "    </tr>\n",
       "  </tbody>\n",
       "</table>\n",
       "</div>"
      ],
      "text/plain": [
       "                                               Product    MRP  \\\n",
       "83   SAMSUNG Galaxy Book Go Snapdragon 7c Gen 2 - (...  32990   \n",
       "89   Lenovo IdeaPad 3 CB Celeron Dual Core - (4 GB/...  19490   \n",
       "96   Lenovo IdeaPad 3 CB Celeron Dual Core - (4 GB/...  19490   \n",
       "345  ASUS Chromebook Flip Touch Celeron Dual Core -...  14990   \n",
       "509  ASUS Chromebook Flip Touch Celeron Dual Core -...  24390   \n",
       "544  ASUS EeeBook 12 Celeron Dual Core - (4 GB/64 G...  21990   \n",
       "559  ASUS EeeBook 12 Celeron Dual Core - (4 GB/64 G...  19990   \n",
       "632  Lenovo IdeaPad Flex 3 Chromebook Celeron Dual ...  28490   \n",
       "695  ASUS Chromebook Celeron Dual Core - (4 GB/64 G...  25990   \n",
       "715  ASUS Chromebook Flip Touch Celeron Dual Core -...  23490   \n",
       "\n",
       "                                               Feature  \\\n",
       "83   Qualcomm Snapdragon 7c Gen 2 Processor4 GB LPD...   \n",
       "89   Intel Celeron Dual Core Processor4 GB DDR4 RAM...   \n",
       "96   Intel Celeron Dual Core Processor4 GB DDR4 RAM...   \n",
       "345  Intel Celeron Dual Core Processor4 GB LPDDR4 R...   \n",
       "509  Intel Celeron Dual Core Processor4 GB LPDDR4 R...   \n",
       "544  Intel Celeron Dual Core Processor4 GB DDR4 RAM...   \n",
       "559  Intel Celeron Dual Core Processor4 GB DDR4 RAM...   \n",
       "632  Intel Celeron Dual Core Processor4 GB LPDDR4X ...   \n",
       "695  Intel Celeron Dual Core Processor4 GB LPDDR4 R...   \n",
       "715  Intel Celeron Dual Core Processor4 GB LPDDR4 R...   \n",
       "\n",
       "                                  Processor            RAM  \\\n",
       "83   Qualcomm Snapdragon 7c Gen 2 Processor  4 GB DDR4 RAM   \n",
       "89        Intel Celeron Dual Core Processor  4 GB DDR4 RAM   \n",
       "96        Intel Celeron Dual Core Processor  4 GB DDR4 RAM   \n",
       "345       Intel Celeron Dual Core Processor  4 GB DDR4 RAM   \n",
       "509       Intel Celeron Dual Core Processor  4 GB DDR4 RAM   \n",
       "544       Intel Celeron Dual Core Processor  4 GB DDR4 RAM   \n",
       "559       Intel Celeron Dual Core Processor  4 GB DDR4 RAM   \n",
       "632       Intel Celeron Dual Core Processor  4 GB DDR4 RAM   \n",
       "695       Intel Celeron Dual Core Processor  4 GB DDR4 RAM   \n",
       "715       Intel Celeron Dual Core Processor  4 GB DDR4 RAM   \n",
       "\n",
       "                              OS Storage    Brand  \n",
       "83   Windows 11 Operating System          SAMSUNG  \n",
       "89       Chrome Operating System           Lenovo  \n",
       "96       Chrome Operating System           Lenovo  \n",
       "345      Chrome Operating System             ASUS  \n",
       "509      Chrome Operating System             ASUS  \n",
       "544  Windows 11 Operating System             ASUS  \n",
       "559  Windows 11 Operating System             ASUS  \n",
       "632      Chrome Operating System           Lenovo  \n",
       "695      Chrome Operating System             ASUS  \n",
       "715      Chrome Operating System             ASUS  "
      ]
     },
     "execution_count": 201,
     "metadata": {},
     "output_type": "execute_result"
    }
   ],
   "source": [
    "df[df['Storage']=='']"
   ]
  },
  {
   "cell_type": "code",
   "execution_count": 202,
   "id": "1ef05bc6",
   "metadata": {},
   "outputs": [
    {
     "name": "stdout",
     "output_type": "stream",
     "text": [
      "SAMSUNG Galaxy Book Go Snapdragon 7c Gen 2 - (4 GB/128 GB EMMC Storage/Windows 11 Home) NP340XLA-KA1IN...\n",
      "Lenovo IdeaPad 3 CB Celeron Dual Core - (4 GB/64 GB EMMC Storage/Chrome OS) 14IGL05 Thin and Light Lap...\n",
      "Lenovo IdeaPad 3 CB Celeron Dual Core - (4 GB/64 GB EMMC Storage/Chrome OS) 14IGL05 Thin and Light Lap...\n",
      "ASUS Chromebook Flip Touch Celeron Dual Core - (4 GB/32 GB EMMC Storage/Chrome OS) C214MA-BU0704 Chrom...\n",
      "ASUS Chromebook Flip Touch Celeron Dual Core - (4 GB/64 GB EMMC Storage/Chrome OS) C523NA-A20303 Chrom...\n",
      "ASUS EeeBook 12 Celeron Dual Core - (4 GB/64 GB EMMC Storage/Windows 11 Home) E210MA-GJ011W Thin and L...\n",
      "ASUS EeeBook 12 Celeron Dual Core - (4 GB/64 GB EMMC Storage/Windows 11 Home) E210MA-GJ012W Thin and L...\n",
      "ASUS Chromebook Celeron Dual Core - (4 GB/64 GB EMMC Storage/Chrome OS) C423NA-EC0521 Chromebook\n",
      "Lenovo IdeaPad Flex 3 Chromebook Celeron Dual Core - (4 GB/128 GB EMMC Storage/Chrome OS) CB 11IJL6 Ch...\n",
      "ASUS Chromebook Flip Touch Celeron Dual Core - (4 GB/64 GB EMMC Storage/Chrome OS) C214MA-BU0452 Chrom...\n"
     ]
    }
   ],
   "source": [
    "print(df['Product'][83])\n",
    "print(df['Product'][89])\n",
    "print(df['Product'][96])\n",
    "print(df['Product'][345])\n",
    "print(df['Product'][509])\n",
    "print(df['Product'][544])\n",
    "print(df['Product'][559])\n",
    "print(df['Product'][695])\n",
    "print(df['Product'][632])\n",
    "print(df['Product'][715])"
   ]
  },
  {
   "cell_type": "code",
   "execution_count": 203,
   "id": "5954c052",
   "metadata": {},
   "outputs": [],
   "source": [
    "### MOST OF THE VALUES ARE 64 gb emmc storage type, replace missing rows with that\n",
    "\n",
    "df['Storage']=df['Storage'].replace('','64 GB EMMC')"
   ]
  },
  {
   "cell_type": "code",
   "execution_count": 204,
   "id": "56920251",
   "metadata": {},
   "outputs": [
    {
     "data": {
      "text/plain": [
       "512 GB SSD                      375\n",
       "1 TB SSD                        176\n",
       "256 GB SSD                       98\n",
       "1 TB HDD256 GB SSD               26\n",
       "1 TB HDD                         17\n",
       "64 GB EMMC                       10\n",
       "2 TB SSD                          7\n",
       "128 GB SSD                        6\n",
       "128 GB SSD1 TB HDD128 GB SSD      2\n",
       "1 TB HDD512 GB SSD                2\n",
       "256 GB HDD256 GB SSD              1\n",
       "Name: Storage, dtype: int64"
      ]
     },
     "execution_count": 204,
     "metadata": {},
     "output_type": "execute_result"
    }
   ],
   "source": [
    "df['Storage'].value_counts()"
   ]
  },
  {
   "cell_type": "code",
   "execution_count": 205,
   "id": "a747eb6d",
   "metadata": {},
   "outputs": [],
   "source": [
    "df.loc[:,'Storage']=df['Storage'].replace({ '1 TB HDD512 GB SSD':'1 TB SSD',\n",
    "                                     '128 GB SSD1 TB HDD128 GB SSD' :'1 TB HDD256 GB SSD',\n",
    "                                         '256 GB HDD256 GB SSD':'512 GB SSD' })"
   ]
  },
  {
   "cell_type": "code",
   "execution_count": 206,
   "id": "9347b5c5",
   "metadata": {},
   "outputs": [
    {
     "data": {
      "text/plain": [
       "512 GB SSD            376\n",
       "1 TB SSD              178\n",
       "256 GB SSD             98\n",
       "1 TB HDD256 GB SSD     28\n",
       "1 TB HDD               17\n",
       "64 GB EMMC             10\n",
       "2 TB SSD                7\n",
       "128 GB SSD              6\n",
       "Name: Storage, dtype: int64"
      ]
     },
     "execution_count": 206,
     "metadata": {},
     "output_type": "execute_result"
    }
   ],
   "source": [
    "df['Storage'].value_counts()"
   ]
  },
  {
   "cell_type": "markdown",
   "id": "3ab553fc",
   "metadata": {},
   "source": [
    "BRAND COLUMN"
   ]
  },
  {
   "cell_type": "code",
   "execution_count": 207,
   "id": "72e415cf",
   "metadata": {},
   "outputs": [
    {
     "data": {
      "text/plain": [
       "ASUS         251\n",
       "Lenovo       196\n",
       "DELL          61\n",
       "HP            61\n",
       "acer          35\n",
       "RedmiBook     31\n",
       "MSI           30\n",
       "Infinix       20\n",
       "APPLE         19\n",
       "realme         6\n",
       "ALIENWARE      3\n",
       "Ultimus        2\n",
       "SAMSUNG        2\n",
       "GIGABYTE       1\n",
       "Nokia          1\n",
       "Vaio           1\n",
       "Name: Brand, dtype: int64"
      ]
     },
     "execution_count": 207,
     "metadata": {},
     "output_type": "execute_result"
    }
   ],
   "source": [
    "df['Brand'].value_counts()"
   ]
  },
  {
   "cell_type": "code",
   "execution_count": 208,
   "id": "29567a7d",
   "metadata": {},
   "outputs": [
    {
     "name": "stdout",
     "output_type": "stream",
     "text": [
      "<class 'pandas.core.frame.DataFrame'>\n",
      "Int64Index: 720 entries, 0 to 719\n",
      "Data columns (total 8 columns):\n",
      " #   Column     Non-Null Count  Dtype \n",
      "---  ------     --------------  ----- \n",
      " 0   Product    720 non-null    object\n",
      " 1   MRP        720 non-null    int64 \n",
      " 2   Feature    720 non-null    object\n",
      " 3   Processor  720 non-null    object\n",
      " 4   RAM        720 non-null    object\n",
      " 5   OS         720 non-null    object\n",
      " 6   Storage    720 non-null    object\n",
      " 7   Brand      720 non-null    object\n",
      "dtypes: int64(1), object(7)\n",
      "memory usage: 66.8+ KB\n"
     ]
    }
   ],
   "source": [
    "df.info()"
   ]
  },
  {
   "cell_type": "code",
   "execution_count": 221,
   "id": "5d6066ff",
   "metadata": {},
   "outputs": [
    {
     "data": {
      "text/plain": [
       "8 GB     273\n",
       "16 GB    203\n",
       "4 GB      27\n",
       "32 GB      6\n",
       "Name: RAM_SIZE, dtype: int64"
      ]
     },
     "execution_count": 221,
     "metadata": {},
     "output_type": "execute_result"
    }
   ],
   "source": [
    "#Extract Ram size\n",
    "\n",
    "regex=r'[\\d]+\\sGB'\n",
    "df['RAM_SIZE']=df['RAM'].apply(lambda x: re.findall(regex,x))\n",
    "df['RAM_SIZE']=df['RAM_SIZE'].apply(lambda x: ''.join(x))\n",
    "df['RAM_SIZE'].value_counts()"
   ]
  },
  {
   "cell_type": "code",
   "execution_count": 210,
   "id": "cae62434",
   "metadata": {},
   "outputs": [
    {
     "data": {
      "text/plain": [
       "DDR4 RAM       583\n",
       "DDR5 RAM        93\n",
       "LPDDR4X RAM     35\n",
       "LPDDR5 RAM       9\n",
       "Name: RAM_type, dtype: int64"
      ]
     },
     "execution_count": 210,
     "metadata": {},
     "output_type": "execute_result"
    }
   ],
   "source": [
    "#RAM TYPE \n",
    "\n",
    "df['RAM_type'] = df['RAM'].apply(lambda x: re.search(r'GB\\s([\\w\\s]+)', x).group(1))\n",
    "df['RAM_type'].value_counts()"
   ]
  },
  {
   "cell_type": "code",
   "execution_count": 211,
   "id": "dd7c96be",
   "metadata": {},
   "outputs": [
    {
     "data": {
      "text/html": [
       "<div>\n",
       "<style scoped>\n",
       "    .dataframe tbody tr th:only-of-type {\n",
       "        vertical-align: middle;\n",
       "    }\n",
       "\n",
       "    .dataframe tbody tr th {\n",
       "        vertical-align: top;\n",
       "    }\n",
       "\n",
       "    .dataframe thead th {\n",
       "        text-align: right;\n",
       "    }\n",
       "</style>\n",
       "<table border=\"1\" class=\"dataframe\">\n",
       "  <thead>\n",
       "    <tr style=\"text-align: right;\">\n",
       "      <th></th>\n",
       "      <th>Product</th>\n",
       "      <th>MRP</th>\n",
       "      <th>Feature</th>\n",
       "      <th>Processor</th>\n",
       "      <th>RAM</th>\n",
       "      <th>OS</th>\n",
       "      <th>Storage</th>\n",
       "      <th>Brand</th>\n",
       "      <th>RAM_SIZE</th>\n",
       "      <th>RAM_type</th>\n",
       "      <th>Display_Size</th>\n",
       "    </tr>\n",
       "  </thead>\n",
       "  <tbody>\n",
       "    <tr>\n",
       "      <th>0</th>\n",
       "      <td>Lenovo IdeaPad 3 Core i3 11th Gen - (8 GB/256 ...</td>\n",
       "      <td>36990</td>\n",
       "      <td>Intel Core i3 Processor (11th Gen)8 GB DDR4 RA...</td>\n",
       "      <td>Intel Core i3 Processor</td>\n",
       "      <td>8 GB DDR4 RAM</td>\n",
       "      <td>Windows 11 Operating System</td>\n",
       "      <td>256 GB SSD</td>\n",
       "      <td>Lenovo</td>\n",
       "      <td>8 GB</td>\n",
       "      <td>DDR4 RAM</td>\n",
       "      <td>14 inch</td>\n",
       "    </tr>\n",
       "    <tr>\n",
       "      <th>1</th>\n",
       "      <td>Lenovo IdeaPad 3 Core i3 11th Gen - (8 GB/512 ...</td>\n",
       "      <td>39990</td>\n",
       "      <td>Intel Core i3 Processor (11th Gen)8 GB DDR4 RA...</td>\n",
       "      <td>Intel Core i3 Processor</td>\n",
       "      <td>8 GB DDR4 RAM</td>\n",
       "      <td>Windows 11 Operating System</td>\n",
       "      <td>512 GB SSD</td>\n",
       "      <td>Lenovo</td>\n",
       "      <td>8 GB</td>\n",
       "      <td>DDR4 RAM</td>\n",
       "      <td>15.6 inch</td>\n",
       "    </tr>\n",
       "    <tr>\n",
       "      <th>2</th>\n",
       "      <td>ASUS VivoBook 15 (2022) Core i3 10th Gen - (8 ...</td>\n",
       "      <td>32990</td>\n",
       "      <td>Intel Core i3 Processor (10th Gen)8 GB DDR4 RA...</td>\n",
       "      <td>Intel Core i3 Processor</td>\n",
       "      <td>8 GB DDR4 RAM</td>\n",
       "      <td>Windows 11 Operating System</td>\n",
       "      <td>512 GB SSD</td>\n",
       "      <td>ASUS</td>\n",
       "      <td>8 GB</td>\n",
       "      <td>DDR4 RAM</td>\n",
       "      <td>15.6 inch</td>\n",
       "    </tr>\n",
       "    <tr>\n",
       "      <th>3</th>\n",
       "      <td>HP Pavilion Ryzen 5 Hexa Core AMD R5-5600H - (...</td>\n",
       "      <td>49990</td>\n",
       "      <td>AMD Ryzen 5 Hexa Core Processor8 GB DDR4 RAM64...</td>\n",
       "      <td>AMD Ryzen 5 Hexa Core Processor</td>\n",
       "      <td>8 GB DDR4 RAM</td>\n",
       "      <td>Windows 10 Operating System</td>\n",
       "      <td>512 GB SSD</td>\n",
       "      <td>HP</td>\n",
       "      <td>8 GB</td>\n",
       "      <td>DDR4 RAM</td>\n",
       "      <td>15.6 inch</td>\n",
       "    </tr>\n",
       "    <tr>\n",
       "      <th>4</th>\n",
       "      <td>ASUS TUF Gaming F15 Core i5 10th Gen - (8 GB/5...</td>\n",
       "      <td>49990</td>\n",
       "      <td>Intel Core i5 Processor (10th Gen)8 GB DDR4 RA...</td>\n",
       "      <td>Intel Core i5 Processor</td>\n",
       "      <td>8 GB DDR4 RAM</td>\n",
       "      <td>Windows 11 Operating System</td>\n",
       "      <td>512 GB SSD</td>\n",
       "      <td>ASUS</td>\n",
       "      <td>8 GB</td>\n",
       "      <td>DDR4 RAM</td>\n",
       "      <td>15.6 inch</td>\n",
       "    </tr>\n",
       "  </tbody>\n",
       "</table>\n",
       "</div>"
      ],
      "text/plain": [
       "                                             Product    MRP  \\\n",
       "0  Lenovo IdeaPad 3 Core i3 11th Gen - (8 GB/256 ...  36990   \n",
       "1  Lenovo IdeaPad 3 Core i3 11th Gen - (8 GB/512 ...  39990   \n",
       "2  ASUS VivoBook 15 (2022) Core i3 10th Gen - (8 ...  32990   \n",
       "3  HP Pavilion Ryzen 5 Hexa Core AMD R5-5600H - (...  49990   \n",
       "4  ASUS TUF Gaming F15 Core i5 10th Gen - (8 GB/5...  49990   \n",
       "\n",
       "                                             Feature  \\\n",
       "0  Intel Core i3 Processor (11th Gen)8 GB DDR4 RA...   \n",
       "1  Intel Core i3 Processor (11th Gen)8 GB DDR4 RA...   \n",
       "2  Intel Core i3 Processor (10th Gen)8 GB DDR4 RA...   \n",
       "3  AMD Ryzen 5 Hexa Core Processor8 GB DDR4 RAM64...   \n",
       "4  Intel Core i5 Processor (10th Gen)8 GB DDR4 RA...   \n",
       "\n",
       "                         Processor            RAM  \\\n",
       "0          Intel Core i3 Processor  8 GB DDR4 RAM   \n",
       "1          Intel Core i3 Processor  8 GB DDR4 RAM   \n",
       "2          Intel Core i3 Processor  8 GB DDR4 RAM   \n",
       "3  AMD Ryzen 5 Hexa Core Processor  8 GB DDR4 RAM   \n",
       "4          Intel Core i5 Processor  8 GB DDR4 RAM   \n",
       "\n",
       "                            OS     Storage   Brand RAM_SIZE  RAM_type  \\\n",
       "0  Windows 11 Operating System  256 GB SSD  Lenovo     8 GB  DDR4 RAM   \n",
       "1  Windows 11 Operating System  512 GB SSD  Lenovo     8 GB  DDR4 RAM   \n",
       "2  Windows 11 Operating System  512 GB SSD    ASUS     8 GB  DDR4 RAM   \n",
       "3  Windows 10 Operating System  512 GB SSD      HP     8 GB  DDR4 RAM   \n",
       "4  Windows 11 Operating System  512 GB SSD    ASUS     8 GB  DDR4 RAM   \n",
       "\n",
       "  Display_Size  \n",
       "0      14 inch  \n",
       "1    15.6 inch  \n",
       "2    15.6 inch  \n",
       "3    15.6 inch  \n",
       "4    15.6 inch  "
      ]
     },
     "execution_count": 211,
     "metadata": {},
     "output_type": "execute_result"
    }
   ],
   "source": [
    "# display size\n",
    "\n",
    "regex = re.compile(r'[0-9.]+\\sinch')\n",
    "df['Display_Size'] = df['Feature'].apply(lambda x: regex.search(x).group(0) if(regex.search(x)) else None)\n",
    "df.head()"
   ]
  },
  {
   "cell_type": "code",
   "execution_count": 212,
   "id": "1330443c",
   "metadata": {},
   "outputs": [],
   "source": [
    "df.Display_Size=df.Display_Size.str.replace('inch', '')\n",
    "df.Display_Size=df.Display_Size.str.replace('Inch', '')\n",
    "df['Display_Size'] = df['Display_Size'].astype(float)"
   ]
  },
  {
   "cell_type": "code",
   "execution_count": 213,
   "id": "606f2f6b",
   "metadata": {},
   "outputs": [
    {
     "name": "stdout",
     "output_type": "stream",
     "text": [
      "<class 'pandas.core.frame.DataFrame'>\n",
      "Int64Index: 720 entries, 0 to 719\n",
      "Data columns (total 11 columns):\n",
      " #   Column        Non-Null Count  Dtype  \n",
      "---  ------        --------------  -----  \n",
      " 0   Product       720 non-null    object \n",
      " 1   MRP           720 non-null    int64  \n",
      " 2   Feature       720 non-null    object \n",
      " 3   Processor     720 non-null    object \n",
      " 4   RAM           720 non-null    object \n",
      " 5   OS            720 non-null    object \n",
      " 6   Storage       720 non-null    object \n",
      " 7   Brand         720 non-null    object \n",
      " 8   RAM_SIZE      720 non-null    object \n",
      " 9   RAM_type      720 non-null    object \n",
      " 10  Display_Size  510 non-null    float64\n",
      "dtypes: float64(1), int64(1), object(9)\n",
      "memory usage: 83.7+ KB\n"
     ]
    }
   ],
   "source": [
    "## convert ramsize,display,size,storage into string format\n",
    "\n",
    "df.info()"
   ]
  },
  {
   "cell_type": "code",
   "execution_count": 214,
   "id": "ac404165",
   "metadata": {},
   "outputs": [
    {
     "data": {
      "text/html": [
       "<div>\n",
       "<style scoped>\n",
       "    .dataframe tbody tr th:only-of-type {\n",
       "        vertical-align: middle;\n",
       "    }\n",
       "\n",
       "    .dataframe tbody tr th {\n",
       "        vertical-align: top;\n",
       "    }\n",
       "\n",
       "    .dataframe thead th {\n",
       "        text-align: right;\n",
       "    }\n",
       "</style>\n",
       "<table border=\"1\" class=\"dataframe\">\n",
       "  <thead>\n",
       "    <tr style=\"text-align: right;\">\n",
       "      <th></th>\n",
       "      <th>Product</th>\n",
       "      <th>MRP</th>\n",
       "      <th>Feature</th>\n",
       "      <th>Processor</th>\n",
       "      <th>RAM</th>\n",
       "      <th>OS</th>\n",
       "      <th>Storage</th>\n",
       "      <th>Brand</th>\n",
       "      <th>RAM_SIZE</th>\n",
       "      <th>RAM_type</th>\n",
       "      <th>Display_Size</th>\n",
       "    </tr>\n",
       "  </thead>\n",
       "  <tbody>\n",
       "    <tr>\n",
       "      <th>0</th>\n",
       "      <td>Lenovo IdeaPad 3 Core i3 11th Gen - (8 GB/256 ...</td>\n",
       "      <td>36990</td>\n",
       "      <td>Intel Core i3 Processor (11th Gen)8 GB DDR4 RA...</td>\n",
       "      <td>Intel Core i3 Processor</td>\n",
       "      <td>8 GB DDR4 RAM</td>\n",
       "      <td>Windows 11 Operating System</td>\n",
       "      <td>256 GB SSD</td>\n",
       "      <td>Lenovo</td>\n",
       "      <td>8 GB</td>\n",
       "      <td>DDR4 RAM</td>\n",
       "      <td>14.0</td>\n",
       "    </tr>\n",
       "    <tr>\n",
       "      <th>1</th>\n",
       "      <td>Lenovo IdeaPad 3 Core i3 11th Gen - (8 GB/512 ...</td>\n",
       "      <td>39990</td>\n",
       "      <td>Intel Core i3 Processor (11th Gen)8 GB DDR4 RA...</td>\n",
       "      <td>Intel Core i3 Processor</td>\n",
       "      <td>8 GB DDR4 RAM</td>\n",
       "      <td>Windows 11 Operating System</td>\n",
       "      <td>512 GB SSD</td>\n",
       "      <td>Lenovo</td>\n",
       "      <td>8 GB</td>\n",
       "      <td>DDR4 RAM</td>\n",
       "      <td>15.6</td>\n",
       "    </tr>\n",
       "    <tr>\n",
       "      <th>2</th>\n",
       "      <td>ASUS VivoBook 15 (2022) Core i3 10th Gen - (8 ...</td>\n",
       "      <td>32990</td>\n",
       "      <td>Intel Core i3 Processor (10th Gen)8 GB DDR4 RA...</td>\n",
       "      <td>Intel Core i3 Processor</td>\n",
       "      <td>8 GB DDR4 RAM</td>\n",
       "      <td>Windows 11 Operating System</td>\n",
       "      <td>512 GB SSD</td>\n",
       "      <td>ASUS</td>\n",
       "      <td>8 GB</td>\n",
       "      <td>DDR4 RAM</td>\n",
       "      <td>15.6</td>\n",
       "    </tr>\n",
       "    <tr>\n",
       "      <th>3</th>\n",
       "      <td>HP Pavilion Ryzen 5 Hexa Core AMD R5-5600H - (...</td>\n",
       "      <td>49990</td>\n",
       "      <td>AMD Ryzen 5 Hexa Core Processor8 GB DDR4 RAM64...</td>\n",
       "      <td>AMD Ryzen 5 Hexa Core Processor</td>\n",
       "      <td>8 GB DDR4 RAM</td>\n",
       "      <td>Windows 10 Operating System</td>\n",
       "      <td>512 GB SSD</td>\n",
       "      <td>HP</td>\n",
       "      <td>8 GB</td>\n",
       "      <td>DDR4 RAM</td>\n",
       "      <td>15.6</td>\n",
       "    </tr>\n",
       "    <tr>\n",
       "      <th>4</th>\n",
       "      <td>ASUS TUF Gaming F15 Core i5 10th Gen - (8 GB/5...</td>\n",
       "      <td>49990</td>\n",
       "      <td>Intel Core i5 Processor (10th Gen)8 GB DDR4 RA...</td>\n",
       "      <td>Intel Core i5 Processor</td>\n",
       "      <td>8 GB DDR4 RAM</td>\n",
       "      <td>Windows 11 Operating System</td>\n",
       "      <td>512 GB SSD</td>\n",
       "      <td>ASUS</td>\n",
       "      <td>8 GB</td>\n",
       "      <td>DDR4 RAM</td>\n",
       "      <td>15.6</td>\n",
       "    </tr>\n",
       "  </tbody>\n",
       "</table>\n",
       "</div>"
      ],
      "text/plain": [
       "                                             Product    MRP  \\\n",
       "0  Lenovo IdeaPad 3 Core i3 11th Gen - (8 GB/256 ...  36990   \n",
       "1  Lenovo IdeaPad 3 Core i3 11th Gen - (8 GB/512 ...  39990   \n",
       "2  ASUS VivoBook 15 (2022) Core i3 10th Gen - (8 ...  32990   \n",
       "3  HP Pavilion Ryzen 5 Hexa Core AMD R5-5600H - (...  49990   \n",
       "4  ASUS TUF Gaming F15 Core i5 10th Gen - (8 GB/5...  49990   \n",
       "\n",
       "                                             Feature  \\\n",
       "0  Intel Core i3 Processor (11th Gen)8 GB DDR4 RA...   \n",
       "1  Intel Core i3 Processor (11th Gen)8 GB DDR4 RA...   \n",
       "2  Intel Core i3 Processor (10th Gen)8 GB DDR4 RA...   \n",
       "3  AMD Ryzen 5 Hexa Core Processor8 GB DDR4 RAM64...   \n",
       "4  Intel Core i5 Processor (10th Gen)8 GB DDR4 RA...   \n",
       "\n",
       "                         Processor            RAM  \\\n",
       "0          Intel Core i3 Processor  8 GB DDR4 RAM   \n",
       "1          Intel Core i3 Processor  8 GB DDR4 RAM   \n",
       "2          Intel Core i3 Processor  8 GB DDR4 RAM   \n",
       "3  AMD Ryzen 5 Hexa Core Processor  8 GB DDR4 RAM   \n",
       "4          Intel Core i5 Processor  8 GB DDR4 RAM   \n",
       "\n",
       "                            OS     Storage   Brand RAM_SIZE  RAM_type  \\\n",
       "0  Windows 11 Operating System  256 GB SSD  Lenovo     8 GB  DDR4 RAM   \n",
       "1  Windows 11 Operating System  512 GB SSD  Lenovo     8 GB  DDR4 RAM   \n",
       "2  Windows 11 Operating System  512 GB SSD    ASUS     8 GB  DDR4 RAM   \n",
       "3  Windows 10 Operating System  512 GB SSD      HP     8 GB  DDR4 RAM   \n",
       "4  Windows 11 Operating System  512 GB SSD    ASUS     8 GB  DDR4 RAM   \n",
       "\n",
       "   Display_Size  \n",
       "0          14.0  \n",
       "1          15.6  \n",
       "2          15.6  \n",
       "3          15.6  \n",
       "4          15.6  "
      ]
     },
     "execution_count": 214,
     "metadata": {},
     "output_type": "execute_result"
    }
   ],
   "source": [
    "df.head()"
   ]
  },
  {
   "cell_type": "code",
   "execution_count": 215,
   "id": "fbf08f59",
   "metadata": {},
   "outputs": [
    {
     "data": {
      "text/plain": [
       "Product           0\n",
       "MRP               0\n",
       "Feature           0\n",
       "Processor         0\n",
       "RAM               0\n",
       "OS                0\n",
       "Storage           0\n",
       "Brand             0\n",
       "RAM_SIZE          0\n",
       "RAM_type          0\n",
       "Display_Size    210\n",
       "dtype: int64"
      ]
     },
     "execution_count": 215,
     "metadata": {},
     "output_type": "execute_result"
    }
   ],
   "source": [
    "df.isnull().sum()"
   ]
  },
  {
   "cell_type": "code",
   "execution_count": 216,
   "id": "de60bc87",
   "metadata": {},
   "outputs": [
    {
     "data": {
      "text/plain": [
       "206015.6"
      ]
     },
     "execution_count": 216,
     "metadata": {},
     "output_type": "execute_result"
    }
   ],
   "source": [
    "df['Display_Size'].max()"
   ]
  },
  {
   "cell_type": "code",
   "execution_count": 217,
   "id": "b4d0729b",
   "metadata": {},
   "outputs": [
    {
     "data": {
      "text/plain": [
       "11.6"
      ]
     },
     "execution_count": 217,
     "metadata": {},
     "output_type": "execute_result"
    }
   ],
   "source": [
    "df['Display_Size'].min()"
   ]
  },
  {
   "cell_type": "code",
   "execution_count": 218,
   "id": "46fd8318",
   "metadata": {},
   "outputs": [],
   "source": [
    "# Filter the DataFrame to exclude outliers\n",
    "df = df[(df['Display_Size'] >=11.0 ) & (df['Display_Size'] <= 30.0)]"
   ]
  },
  {
   "cell_type": "code",
   "execution_count": 219,
   "id": "6590cb8d",
   "metadata": {},
   "outputs": [
    {
     "name": "stdout",
     "output_type": "stream",
     "text": [
      "<class 'pandas.core.frame.DataFrame'>\n",
      "Int64Index: 509 entries, 0 to 719\n",
      "Data columns (total 11 columns):\n",
      " #   Column        Non-Null Count  Dtype  \n",
      "---  ------        --------------  -----  \n",
      " 0   Product       509 non-null    object \n",
      " 1   MRP           509 non-null    int64  \n",
      " 2   Feature       509 non-null    object \n",
      " 3   Processor     509 non-null    object \n",
      " 4   RAM           509 non-null    object \n",
      " 5   OS            509 non-null    object \n",
      " 6   Storage       509 non-null    object \n",
      " 7   Brand         509 non-null    object \n",
      " 8   RAM_SIZE      509 non-null    object \n",
      " 9   RAM_type      509 non-null    object \n",
      " 10  Display_Size  509 non-null    float64\n",
      "dtypes: float64(1), int64(1), object(9)\n",
      "memory usage: 47.7+ KB\n"
     ]
    }
   ],
   "source": [
    "df.info()"
   ]
  },
  {
   "cell_type": "code",
   "execution_count": 220,
   "id": "1ed61dd6",
   "metadata": {},
   "outputs": [],
   "source": [
    "### Drop unnecessary columns"
   ]
  },
  {
   "cell_type": "code",
   "execution_count": 143,
   "id": "6cb2f7c8",
   "metadata": {},
   "outputs": [
    {
     "data": {
      "text/html": [
       "<div>\n",
       "<style scoped>\n",
       "    .dataframe tbody tr th:only-of-type {\n",
       "        vertical-align: middle;\n",
       "    }\n",
       "\n",
       "    .dataframe tbody tr th {\n",
       "        vertical-align: top;\n",
       "    }\n",
       "\n",
       "    .dataframe thead th {\n",
       "        text-align: right;\n",
       "    }\n",
       "</style>\n",
       "<table border=\"1\" class=\"dataframe\">\n",
       "  <thead>\n",
       "    <tr style=\"text-align: right;\">\n",
       "      <th></th>\n",
       "      <th>MRP</th>\n",
       "      <th>Processor</th>\n",
       "      <th>OS</th>\n",
       "      <th>Storage</th>\n",
       "      <th>Brand</th>\n",
       "      <th>RAM_SIZE</th>\n",
       "      <th>RAM_type</th>\n",
       "      <th>Display_Size</th>\n",
       "    </tr>\n",
       "  </thead>\n",
       "  <tbody>\n",
       "    <tr>\n",
       "      <th>0</th>\n",
       "      <td>36990</td>\n",
       "      <td>Intel Core i3 Processor</td>\n",
       "      <td>Windows 11 Operating System</td>\n",
       "      <td>256 GB SSD</td>\n",
       "      <td>Lenovo</td>\n",
       "      <td>8 GB</td>\n",
       "      <td>DDR4 RAM</td>\n",
       "      <td>14.0</td>\n",
       "    </tr>\n",
       "    <tr>\n",
       "      <th>1</th>\n",
       "      <td>39990</td>\n",
       "      <td>Intel Core i3 Processor</td>\n",
       "      <td>Windows 11 Operating System</td>\n",
       "      <td>512 GB SSD</td>\n",
       "      <td>Lenovo</td>\n",
       "      <td>8 GB</td>\n",
       "      <td>DDR4 RAM</td>\n",
       "      <td>15.6</td>\n",
       "    </tr>\n",
       "    <tr>\n",
       "      <th>2</th>\n",
       "      <td>32990</td>\n",
       "      <td>Intel Core i3 Processor</td>\n",
       "      <td>Windows 11 Operating System</td>\n",
       "      <td>512 GB SSD</td>\n",
       "      <td>ASUS</td>\n",
       "      <td>8 GB</td>\n",
       "      <td>DDR4 RAM</td>\n",
       "      <td>15.6</td>\n",
       "    </tr>\n",
       "    <tr>\n",
       "      <th>3</th>\n",
       "      <td>49990</td>\n",
       "      <td>AMD Ryzen 5 Hexa Core Processor</td>\n",
       "      <td>Windows 10 Operating System</td>\n",
       "      <td>512 GB SSD</td>\n",
       "      <td>HP</td>\n",
       "      <td>8 GB</td>\n",
       "      <td>DDR4 RAM</td>\n",
       "      <td>15.6</td>\n",
       "    </tr>\n",
       "    <tr>\n",
       "      <th>4</th>\n",
       "      <td>49990</td>\n",
       "      <td>Intel Core i5 Processor</td>\n",
       "      <td>Windows 11 Operating System</td>\n",
       "      <td>512 GB SSD</td>\n",
       "      <td>ASUS</td>\n",
       "      <td>8 GB</td>\n",
       "      <td>DDR4 RAM</td>\n",
       "      <td>15.6</td>\n",
       "    </tr>\n",
       "    <tr>\n",
       "      <th>...</th>\n",
       "      <td>...</td>\n",
       "      <td>...</td>\n",
       "      <td>...</td>\n",
       "      <td>...</td>\n",
       "      <td>...</td>\n",
       "      <td>...</td>\n",
       "      <td>...</td>\n",
       "      <td>...</td>\n",
       "    </tr>\n",
       "    <tr>\n",
       "      <th>715</th>\n",
       "      <td>23490</td>\n",
       "      <td>Intel Celeron Dual Core Processor</td>\n",
       "      <td>Chrome Operating System</td>\n",
       "      <td>64 GB EMMC</td>\n",
       "      <td>ASUS</td>\n",
       "      <td>4 GB</td>\n",
       "      <td>DDR4 RAM</td>\n",
       "      <td>11.6</td>\n",
       "    </tr>\n",
       "    <tr>\n",
       "      <th>716</th>\n",
       "      <td>73490</td>\n",
       "      <td>AMD Ryzen 7 Octa Core Processor</td>\n",
       "      <td>Windows 11 Operating System</td>\n",
       "      <td>512 GB SSD</td>\n",
       "      <td>Lenovo</td>\n",
       "      <td>8 GB</td>\n",
       "      <td>DDR4 RAM</td>\n",
       "      <td>15.6</td>\n",
       "    </tr>\n",
       "    <tr>\n",
       "      <th>717</th>\n",
       "      <td>194990</td>\n",
       "      <td>AMD Ryzen 9 Octa Core Processor</td>\n",
       "      <td>Windows 11 Operating System</td>\n",
       "      <td>1 TB SSD</td>\n",
       "      <td>ASUS</td>\n",
       "      <td>16 GB</td>\n",
       "      <td>DDR5 RAM</td>\n",
       "      <td>15.6</td>\n",
       "    </tr>\n",
       "    <tr>\n",
       "      <th>718</th>\n",
       "      <td>125990</td>\n",
       "      <td>Intel Core i7 Processor</td>\n",
       "      <td>Windows 11 Operating System</td>\n",
       "      <td>512 GB SSD</td>\n",
       "      <td>ASUS</td>\n",
       "      <td>16 GB</td>\n",
       "      <td>LPDDR5 RAM</td>\n",
       "      <td>14.0</td>\n",
       "    </tr>\n",
       "    <tr>\n",
       "      <th>719</th>\n",
       "      <td>50990</td>\n",
       "      <td>Intel Core i5 Processor</td>\n",
       "      <td>Windows 10 Operating System</td>\n",
       "      <td>1 TB HDD256 GB SSD</td>\n",
       "      <td>Lenovo</td>\n",
       "      <td>8 GB</td>\n",
       "      <td>DDR4 RAM</td>\n",
       "      <td>15.6</td>\n",
       "    </tr>\n",
       "  </tbody>\n",
       "</table>\n",
       "<p>509 rows × 8 columns</p>\n",
       "</div>"
      ],
      "text/plain": [
       "        MRP                          Processor                           OS  \\\n",
       "0     36990            Intel Core i3 Processor  Windows 11 Operating System   \n",
       "1     39990            Intel Core i3 Processor  Windows 11 Operating System   \n",
       "2     32990            Intel Core i3 Processor  Windows 11 Operating System   \n",
       "3     49990    AMD Ryzen 5 Hexa Core Processor  Windows 10 Operating System   \n",
       "4     49990            Intel Core i5 Processor  Windows 11 Operating System   \n",
       "..      ...                                ...                          ...   \n",
       "715   23490  Intel Celeron Dual Core Processor      Chrome Operating System   \n",
       "716   73490    AMD Ryzen 7 Octa Core Processor  Windows 11 Operating System   \n",
       "717  194990    AMD Ryzen 9 Octa Core Processor  Windows 11 Operating System   \n",
       "718  125990            Intel Core i7 Processor  Windows 11 Operating System   \n",
       "719   50990            Intel Core i5 Processor  Windows 10 Operating System   \n",
       "\n",
       "                Storage   Brand RAM_SIZE    RAM_type  Display_Size  \n",
       "0            256 GB SSD  Lenovo     8 GB    DDR4 RAM          14.0  \n",
       "1            512 GB SSD  Lenovo     8 GB    DDR4 RAM          15.6  \n",
       "2            512 GB SSD    ASUS     8 GB    DDR4 RAM          15.6  \n",
       "3            512 GB SSD      HP     8 GB    DDR4 RAM          15.6  \n",
       "4            512 GB SSD    ASUS     8 GB    DDR4 RAM          15.6  \n",
       "..                  ...     ...      ...         ...           ...  \n",
       "715          64 GB EMMC    ASUS     4 GB    DDR4 RAM          11.6  \n",
       "716          512 GB SSD  Lenovo     8 GB    DDR4 RAM          15.6  \n",
       "717            1 TB SSD    ASUS    16 GB    DDR5 RAM          15.6  \n",
       "718          512 GB SSD    ASUS    16 GB  LPDDR5 RAM          14.0  \n",
       "719  1 TB HDD256 GB SSD  Lenovo     8 GB    DDR4 RAM          15.6  \n",
       "\n",
       "[509 rows x 8 columns]"
      ]
     },
     "execution_count": 143,
     "metadata": {},
     "output_type": "execute_result"
    }
   ],
   "source": [
    "df=df.drop(columns=['Product','Feature','RAM'],axis=1)\n",
    "df"
   ]
  },
  {
   "cell_type": "markdown",
   "id": "f67559dc",
   "metadata": {},
   "source": [
    "Data Visualization"
   ]
  },
  {
   "cell_type": "code",
   "execution_count": 144,
   "id": "1f6322d7",
   "metadata": {},
   "outputs": [
    {
     "data": {
      "text/plain": [
       "<AxesSubplot:xlabel='Brand', ylabel='MRP'>"
      ]
     },
     "execution_count": 144,
     "metadata": {},
     "output_type": "execute_result"
    },
    {
     "data": {
      "image/png": "[encoded data removed]",
      "text/plain": [
       "<Figure size 1080x576 with 1 Axes>"
      ]
     },
     "metadata": {
      "needs_background": "light"
     },
     "output_type": "display_data"
    }
   ],
   "source": [
    "import seaborn as sn\n",
    "from matplotlib import pyplot as plt\n",
    "\n",
    "#RELATION BETWEEN MRP AND BRAND \n",
    "plt.figure(figsize=(15,8))\n",
    "sn.boxplot(x='Brand',y='MRP',data=df)"
   ]
  },
  {
   "cell_type": "code",
   "execution_count": 145,
   "id": "03b871a9",
   "metadata": {},
   "outputs": [
    {
     "data": {
      "image/png": "[encoded data removed]",
      "text/plain": [
       "<Figure size 1296x360 with 1 Axes>"
      ]
     },
     "metadata": {
      "needs_background": "light"
     },
     "output_type": "display_data"
    }
   ],
   "source": [
    "#relation between brand and mrp\n",
    "plt.figure(figsize=(18,5))\n",
    "sn.barplot(data=df, x=\"Brand\", y=\"MRP\", ci=None);"
   ]
  },
  {
   "cell_type": "markdown",
   "id": "47717bfe",
   "metadata": {},
   "source": [
    "For alienware MRP IS HIGH COMPARED TO OTHER BRANDS"
   ]
  },
  {
   "cell_type": "code",
   "execution_count": 146,
   "id": "d94ef92c",
   "metadata": {},
   "outputs": [
    {
     "data": {
      "text/plain": [
       "<AxesSubplot:>"
      ]
     },
     "execution_count": 146,
     "metadata": {},
     "output_type": "execute_result"
    },
    {
     "data": {
      "image/png": "[encoded data removed]",
      "text/plain": [
       "<Figure size 1080x576 with 1 Axes>"
      ]
     },
     "metadata": {
      "needs_background": "light"
     },
     "output_type": "display_data"
    }
   ],
   "source": [
    "#COUNT NO OF LAPTOPS FOR EACH BRAND\n",
    "df['Brand'].value_counts().plot(kind='bar',figsize=(15,8))"
   ]
  },
  {
   "cell_type": "markdown",
   "id": "f1aff81b",
   "metadata": {},
   "source": [
    "ASUS LAPTOPS ARE HIGH IN FLIPKART WEBSITE "
   ]
  },
  {
   "cell_type": "code",
   "execution_count": 147,
   "id": "9c226420",
   "metadata": {},
   "outputs": [
    {
     "data": {
      "text/html": [
       "<div>\n",
       "<style scoped>\n",
       "    .dataframe tbody tr th:only-of-type {\n",
       "        vertical-align: middle;\n",
       "    }\n",
       "\n",
       "    .dataframe tbody tr th {\n",
       "        vertical-align: top;\n",
       "    }\n",
       "\n",
       "    .dataframe thead tr th {\n",
       "        text-align: left;\n",
       "    }\n",
       "\n",
       "    .dataframe thead tr:last-of-type th {\n",
       "        text-align: right;\n",
       "    }\n",
       "</style>\n",
       "<table border=\"1\" class=\"dataframe\">\n",
       "  <thead>\n",
       "    <tr>\n",
       "      <th></th>\n",
       "      <th colspan=\"3\" halign=\"left\">MRP</th>\n",
       "    </tr>\n",
       "    <tr>\n",
       "      <th></th>\n",
       "      <th>min</th>\n",
       "      <th>max</th>\n",
       "      <th>mean</th>\n",
       "    </tr>\n",
       "    <tr>\n",
       "      <th>Brand</th>\n",
       "      <th></th>\n",
       "      <th></th>\n",
       "      <th></th>\n",
       "    </tr>\n",
       "  </thead>\n",
       "  <tbody>\n",
       "    <tr>\n",
       "      <th>ALIENWARE</th>\n",
       "      <td>199990</td>\n",
       "      <td>345390</td>\n",
       "      <td>272690.000000</td>\n",
       "    </tr>\n",
       "    <tr>\n",
       "      <th>APPLE</th>\n",
       "      <td>88990</td>\n",
       "      <td>309490</td>\n",
       "      <td>171597.142857</td>\n",
       "    </tr>\n",
       "    <tr>\n",
       "      <th>ASUS</th>\n",
       "      <td>14990</td>\n",
       "      <td>301990</td>\n",
       "      <td>117500.550505</td>\n",
       "    </tr>\n",
       "    <tr>\n",
       "      <th>DELL</th>\n",
       "      <td>34990</td>\n",
       "      <td>116490</td>\n",
       "      <td>59610.766667</td>\n",
       "    </tr>\n",
       "    <tr>\n",
       "      <th>HP</th>\n",
       "      <td>25990</td>\n",
       "      <td>159990</td>\n",
       "      <td>62941.520833</td>\n",
       "    </tr>\n",
       "    <tr>\n",
       "      <th>Infinix</th>\n",
       "      <td>20990</td>\n",
       "      <td>37990</td>\n",
       "      <td>28323.333333</td>\n",
       "    </tr>\n",
       "    <tr>\n",
       "      <th>Lenovo</th>\n",
       "      <td>19490</td>\n",
       "      <td>157990</td>\n",
       "      <td>49054.862903</td>\n",
       "    </tr>\n",
       "    <tr>\n",
       "      <th>MSI</th>\n",
       "      <td>43990</td>\n",
       "      <td>314990</td>\n",
       "      <td>109100.428571</td>\n",
       "    </tr>\n",
       "    <tr>\n",
       "      <th>Nokia</th>\n",
       "      <td>50490</td>\n",
       "      <td>50490</td>\n",
       "      <td>50490.000000</td>\n",
       "    </tr>\n",
       "    <tr>\n",
       "      <th>RedmiBook</th>\n",
       "      <td>31990</td>\n",
       "      <td>39990</td>\n",
       "      <td>39731.935484</td>\n",
       "    </tr>\n",
       "    <tr>\n",
       "      <th>Ultimus</th>\n",
       "      <td>15990</td>\n",
       "      <td>19990</td>\n",
       "      <td>17990.000000</td>\n",
       "    </tr>\n",
       "    <tr>\n",
       "      <th>Vaio</th>\n",
       "      <td>40990</td>\n",
       "      <td>40990</td>\n",
       "      <td>40990.000000</td>\n",
       "    </tr>\n",
       "    <tr>\n",
       "      <th>acer</th>\n",
       "      <td>25990</td>\n",
       "      <td>129999</td>\n",
       "      <td>64756.636364</td>\n",
       "    </tr>\n",
       "    <tr>\n",
       "      <th>realme</th>\n",
       "      <td>46990</td>\n",
       "      <td>64999</td>\n",
       "      <td>54324.833333</td>\n",
       "    </tr>\n",
       "  </tbody>\n",
       "</table>\n",
       "</div>"
      ],
      "text/plain": [
       "              MRP                       \n",
       "              min     max           mean\n",
       "Brand                                   \n",
       "ALIENWARE  199990  345390  272690.000000\n",
       "APPLE       88990  309490  171597.142857\n",
       "ASUS        14990  301990  117500.550505\n",
       "DELL        34990  116490   59610.766667\n",
       "HP          25990  159990   62941.520833\n",
       "Infinix     20990   37990   28323.333333\n",
       "Lenovo      19490  157990   49054.862903\n",
       "MSI         43990  314990  109100.428571\n",
       "Nokia       50490   50490   50490.000000\n",
       "RedmiBook   31990   39990   39731.935484\n",
       "Ultimus     15990   19990   17990.000000\n",
       "Vaio        40990   40990   40990.000000\n",
       "acer        25990  129999   64756.636364\n",
       "realme      46990   64999   54324.833333"
      ]
     },
     "execution_count": 147,
     "metadata": {},
     "output_type": "execute_result"
    }
   ],
   "source": [
    "#FOR EACH BRAND OBSERVING MIN,MAX AND MEAN VALUE\n",
    "df.groupby(['Brand']).agg({'MRP' : ['min', 'max', 'mean']})"
   ]
  },
  {
   "cell_type": "code",
   "execution_count": 148,
   "id": "f7f551fe",
   "metadata": {},
   "outputs": [
    {
     "data": {
      "text/plain": [
       "<AxesSubplot:>"
      ]
     },
     "execution_count": 148,
     "metadata": {},
     "output_type": "execute_result"
    },
    {
     "data": {
      "image/png": "[encoded data removed]",
      "text/plain": [
       "<Figure size 1080x576 with 1 Axes>"
      ]
     },
     "metadata": {
      "needs_background": "light"
     },
     "output_type": "display_data"
    }
   ],
   "source": [
    "#PRICE RANGE\n",
    "df['MRP'].plot(kind='box',figsize=(15,8))"
   ]
  },
  {
   "cell_type": "markdown",
   "id": "de629a70",
   "metadata": {},
   "source": [
    "THE HIGHEST PRICE OF A LAPTOP IS MORE THAN 4LAKHS AND MOST OF THE LAPTOPS ARE IN BELOW 1 LAKHS"
   ]
  },
  {
   "cell_type": "markdown",
   "id": "2211093d",
   "metadata": {},
   "source": [
    "#### OS VS MRP"
   ]
  },
  {
   "cell_type": "code",
   "execution_count": 149,
   "id": "8e76f667",
   "metadata": {},
   "outputs": [
    {
     "data": {
      "text/plain": [
       "<AxesSubplot:xlabel='OS', ylabel='MRP'>"
      ]
     },
     "execution_count": 149,
     "metadata": {},
     "output_type": "execute_result"
    },
    {
     "data": {
      "image/png": "[encoded data removed]",
      "text/plain": [
       "<Figure size 1080x432 with 1 Axes>"
      ]
     },
     "metadata": {
      "needs_background": "light"
     },
     "output_type": "display_data"
    }
   ],
   "source": [
    "plt.figure(figsize=(15,6))\n",
    "sn.boxplot(x='OS',y='MRP',data=df)"
   ]
  },
  {
   "cell_type": "markdown",
   "id": "23d670f9",
   "metadata": {},
   "source": [
    "FOR MAC OS THE PRICE IS VERY HIGH"
   ]
  },
  {
   "cell_type": "markdown",
   "id": "8ecd198a",
   "metadata": {},
   "source": [
    "#### Processor vs MRP"
   ]
  },
  {
   "cell_type": "code",
   "execution_count": 150,
   "id": "4a3e2018",
   "metadata": {},
   "outputs": [
    {
     "data": {
      "image/png": "[encoded data removed]",
      "text/plain": [
       "<Figure size 3960x1080 with 1 Axes>"
      ]
     },
     "metadata": {
      "needs_background": "light"
     },
     "output_type": "display_data"
    }
   ],
   "source": [
    "plt.figure(figsize=(55,15))\n",
    "ax=sn.barplot(x='Processor',y='MRP',data=df)\n",
    "ax.set_xlabel('Processor', fontsize=60)\n",
    "ax.set_ylabel('MRP', fontsize=60)\n",
    "ax.set_xticklabels(ax.get_xticklabels(), fontsize=30, rotation=30, ha='right', va='top')\n",
    "plt.show()"
   ]
  },
  {
   "cell_type": "markdown",
   "id": "c5b75db2",
   "metadata": {},
   "source": [
    "The price is very high for intel core i9 processor and followed by Apple m1 pro processor"
   ]
  },
  {
   "cell_type": "markdown",
   "id": "69997fc5",
   "metadata": {},
   "source": [
    "#### RAM TYPE VS MRP"
   ]
  },
  {
   "cell_type": "code",
   "execution_count": 151,
   "id": "0d8451c3",
   "metadata": {},
   "outputs": [
    {
     "data": {
      "image/png": "[encoded data removed]",
      "text/plain": [
       "<Figure size 864x504 with 1 Axes>"
      ]
     },
     "metadata": {
      "needs_background": "light"
     },
     "output_type": "display_data"
    }
   ],
   "source": [
    "plt.figure(figsize=(12,7))\n",
    "ax=sn.barplot(x='RAM_type',y='MRP',data=df)\n",
    "ax.set_xlabel('RAM_type', fontsize=20)\n",
    "ax.set_ylabel('MRP', fontsize=20)\n",
    "plt.show()"
   ]
  },
  {
   "cell_type": "markdown",
   "id": "fdb48e1f",
   "metadata": {},
   "source": [
    "DDR5 ram has higher price than other types"
   ]
  },
  {
   "cell_type": "code",
   "execution_count": null,
   "id": "8bf789fb",
   "metadata": {},
   "outputs": [],
   "source": []
  },
  {
   "cell_type": "markdown",
   "id": "d8c41a6d",
   "metadata": {},
   "source": [
    "### Feature Engineering"
   ]
  },
  {
   "cell_type": "code",
   "execution_count": 152,
   "id": "17e89363",
   "metadata": {},
   "outputs": [
    {
     "data": {
      "text/plain": [
       "Index(['MRP', 'Processor', 'OS', 'Storage', 'Brand', 'RAM_SIZE', 'RAM_type',\n",
       "       'Display_Size'],\n",
       "      dtype='object')"
      ]
     },
     "execution_count": 152,
     "metadata": {},
     "output_type": "execute_result"
    }
   ],
   "source": [
    "df.columns"
   ]
  },
  {
   "cell_type": "code",
   "execution_count": 153,
   "id": "facd5799",
   "metadata": {},
   "outputs": [
    {
     "name": "stdout",
     "output_type": "stream",
     "text": [
      "<class 'pandas.core.frame.DataFrame'>\n",
      "Int64Index: 509 entries, 0 to 719\n",
      "Data columns (total 8 columns):\n",
      " #   Column        Non-Null Count  Dtype  \n",
      "---  ------        --------------  -----  \n",
      " 0   MRP           509 non-null    int64  \n",
      " 1   Processor     509 non-null    object \n",
      " 2   OS            509 non-null    object \n",
      " 3   Storage       509 non-null    object \n",
      " 4   Brand         509 non-null    object \n",
      " 5   RAM_SIZE      509 non-null    object \n",
      " 6   RAM_type      509 non-null    object \n",
      " 7   Display_Size  509 non-null    float64\n",
      "dtypes: float64(1), int64(1), object(6)\n",
      "memory usage: 52.0+ KB\n"
     ]
    }
   ],
   "source": [
    "df.info()"
   ]
  },
  {
   "cell_type": "code",
   "execution_count": null,
   "id": "77b47828",
   "metadata": {},
   "outputs": [],
   "source": []
  },
  {
   "cell_type": "markdown",
   "id": "1529aa50",
   "metadata": {},
   "source": [
    "MODEL TRAINING "
   ]
  },
  {
   "cell_type": "code",
   "execution_count": 154,
   "id": "2248b901",
   "metadata": {},
   "outputs": [],
   "source": [
    "from sklearn.preprocessing import StandardScaler, OneHotEncoder\n",
    "from sklearn.compose import make_column_transformer\n",
    "from sklearn.model_selection import train_test_split\n",
    "from sklearn.ensemble import RandomForestRegressor\n",
    "from sklearn.linear_model import LinearRegression"
   ]
  },
  {
   "cell_type": "code",
   "execution_count": 155,
   "id": "b94be790",
   "metadata": {},
   "outputs": [],
   "source": [
    "## split the data\n",
    "x=df.drop(\"MRP\", axis=1)\n",
    "y=df[\"MRP\"]\n",
    "x_train, x_test, y_train, y_test = train_test_split(x, y, test_size=0.2, random_state=42)"
   ]
  },
  {
   "cell_type": "code",
   "execution_count": 156,
   "id": "ea935a1d",
   "metadata": {},
   "outputs": [],
   "source": [
    "## Encoding categorical cols and standardize numerical col\n",
    "\n",
    "cat_cols = ['Processor', 'OS', 'Storage', 'Brand','RAM_SIZE', 'RAM_type']\n",
    "num_cols = ['Display_Size']\n",
    "\n",
    "preprocessor = make_column_transformer(\n",
    "    (OneHotEncoder(handle_unknown='ignore'), cat_cols),\n",
    "    (StandardScaler(), num_cols)\n",
    ")\n",
    "\n",
    "# Fit and transform training data\n",
    "X_train_prep = preprocessor.fit_transform(x_train)\n",
    "\n",
    "# transform test data\n",
    "X_test_prep = preprocessor.transform(x_test)"
   ]
  },
  {
   "cell_type": "code",
   "execution_count": 157,
   "id": "653b4ee7",
   "metadata": {},
   "outputs": [],
   "source": [
    "## Linear regression Model\n",
    "\n",
    "lr_model = LinearRegression()\n",
    "lr_model.fit(X_train_prep, y_train)\n",
    "y_pred=lr_model.predict(X_test_prep)"
   ]
  },
  {
   "cell_type": "code",
   "execution_count": 158,
   "id": "36bf74ec",
   "metadata": {},
   "outputs": [
    {
     "data": {
      "text/plain": [
       "0.9357737019171928"
      ]
     },
     "execution_count": 158,
     "metadata": {},
     "output_type": "execute_result"
    }
   ],
   "source": [
    "## Accuracy \n",
    "\n",
    "from sklearn.metrics import r2_score\n",
    "lr_model.score(X_test_prep,y_test)"
   ]
  },
  {
   "cell_type": "markdown",
   "id": "f320fa8f",
   "metadata": {},
   "source": [
    "RANDOM FOREST REGRESSOR"
   ]
  },
  {
   "cell_type": "code",
   "execution_count": 159,
   "id": "e4bced3a",
   "metadata": {},
   "outputs": [],
   "source": [
    "rf = RandomForestRegressor(n_estimators=100, random_state=42)\n",
    "rf.fit(X_train_prep, y_train)\n",
    "y_pred=rf.predict(X_test_prep)"
   ]
  },
  {
   "cell_type": "code",
   "execution_count": 160,
   "id": "9468514e",
   "metadata": {},
   "outputs": [
    {
     "data": {
      "text/plain": [
       "0.9285020472209926"
      ]
     },
     "execution_count": 160,
     "metadata": {},
     "output_type": "execute_result"
    }
   ],
   "source": [
    "rf.score(X_test_prep,y_test)"
   ]
  },
  {
   "cell_type": "markdown",
   "id": "54bec1a1",
   "metadata": {},
   "source": [
    "ACTUAL VS PREDICTION"
   ]
  },
  {
   "cell_type": "code",
   "execution_count": 161,
   "id": "8db13cc8",
   "metadata": {},
   "outputs": [
    {
     "data": {
      "image/png": "[encoded data removed]",
      "text/plain": [
       "<Figure size 720x432 with 1 Axes>"
      ]
     },
     "metadata": {
      "needs_background": "light"
     },
     "output_type": "display_data"
    }
   ],
   "source": [
    "fig = plt.figure(figsize=(10,6))\n",
    "\n",
    "sn.scatterplot(x=y_test,y=y_pred)\n",
    "plt.xlabel(\"Actual\")\n",
    "plt.ylabel(\"Prediction\")\n",
    "plt.show()"
   ]
  },
  {
   "cell_type": "code",
   "execution_count": null,
   "id": "51e3901b",
   "metadata": {},
   "outputs": [],
   "source": []
  }
 ],
 "metadata": {
  "kernelspec": {
   "display_name": "Python 3",
   "language": "python",
   "name": "python3"
  },
  "language_info": {
   "codemirror_mode": {
    "name": "ipython",
    "version": 3
   },
   "file_extension": ".py",
   "mimetype": "text/x-python",
   "name": "python",
   "nbconvert_exporter": "python",
   "pygments_lexer": "ipython3",
   "version": "3.8.8"
  }
 },
 "nbformat": 4,
 "nbformat_minor": 5
}
